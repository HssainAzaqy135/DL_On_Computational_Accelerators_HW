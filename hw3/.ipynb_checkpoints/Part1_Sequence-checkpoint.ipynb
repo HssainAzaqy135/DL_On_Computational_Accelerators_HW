{
 "cells": [
  {
   "cell_type": "markdown",
   "metadata": {},
   "source": [
    "$$\n",
    "\\newcommand{\\mat}[1]{\\boldsymbol {#1}}\n",
    "\\newcommand{\\mattr}[1]{\\boldsymbol {#1}^\\top}\n",
    "\\newcommand{\\matinv}[1]{\\boldsymbol {#1}^{-1}}\n",
    "\\newcommand{\\vec}[1]{\\boldsymbol {#1}}\n",
    "\\newcommand{\\vectr}[1]{\\boldsymbol {#1}^\\top}\n",
    "\\newcommand{\\rvar}[1]{\\mathrm {#1}}\n",
    "\\newcommand{\\rvec}[1]{\\boldsymbol{\\mathrm{#1}}}\n",
    "\\newcommand{\\diag}{\\mathop{\\mathrm {diag}}}\n",
    "\\newcommand{\\set}[1]{\\mathbb {#1}}\n",
    "\\newcommand{\\norm}[1]{\\left\\lVert#1\\right\\rVert}\n",
    "\\newcommand{\\pderiv}[2]{\\frac{\\partial #1}{\\partial #2}}\n",
    "\\newcommand{\\bb}[1]{\\boldsymbol{#1}}\n",
    "$$\n",
    "# Part 1: Sequence Models\n",
    "<a id=part1></a>"
   ]
  },
  {
   "cell_type": "markdown",
   "metadata": {},
   "source": [
    "In this part we will learn about working with text sequences using recurrent neural networks.\n",
    "We'll go from a raw text file all the way to a fully trained GRU-RNN model and generate works of art!"
   ]
  },
  {
   "cell_type": "code",
   "execution_count": 1,
   "metadata": {},
   "outputs": [],
   "source": [
    "import unittest\n",
    "import os\n",
    "import sys\n",
    "import pathlib\n",
    "import urllib\n",
    "import shutil\n",
    "import re\n",
    "\n",
    "import numpy as np\n",
    "import torch\n",
    "import matplotlib.pyplot as plt\n",
    "\n",
    "%load_ext autoreload\n",
    "%autoreload 2"
   ]
  },
  {
   "cell_type": "code",
   "execution_count": 2,
   "metadata": {},
   "outputs": [
    {
     "name": "stdout",
     "output_type": "stream",
     "text": [
      "Using device: cuda\n"
     ]
    }
   ],
   "source": [
    "test = unittest.TestCase()\n",
    "plt.rcParams.update({'font.size': 12})\n",
    "device = torch.device('cuda' if torch.cuda.is_available() else 'cpu')\n",
    "print('Using device:', device)"
   ]
  },
  {
   "cell_type": "markdown",
   "metadata": {},
   "source": [
    "## Text generation with a char-level RNN\n",
    "<a id=part1_1></a>"
   ]
  },
  {
   "cell_type": "markdown",
   "metadata": {},
   "source": [
    "### Obtaining the corpus\n",
    "<a id=part1_2></a>"
   ]
  },
  {
   "cell_type": "markdown",
   "metadata": {},
   "source": [
    "Let's begin by downloading a corpus containing all the works of William Shakespeare.\n",
    "Since he was very prolific, this corpus is fairly large and will provide us with enough data for\n",
    "obtaining impressive results."
   ]
  },
  {
   "cell_type": "code",
   "execution_count": 3,
   "metadata": {},
   "outputs": [
    {
     "name": "stdout",
     "output_type": "stream",
     "text": [
      "Corpus file C:\\Users\\kingh\\.pytorch-datasets\\shakespeare.txt exists, skipping download.\n"
     ]
    }
   ],
   "source": [
    "CORPUS_URL = 'https://github.com/cedricdeboom/character-level-rnn-datasets/raw/master/datasets/shakespeare.txt'\n",
    "DATA_DIR = pathlib.Path.home().joinpath('.pytorch-datasets')\n",
    "\n",
    "def download_corpus(out_path=DATA_DIR, url=CORPUS_URL, force=False):\n",
    "    pathlib.Path(out_path).mkdir(exist_ok=True)\n",
    "    out_filename = os.path.join(out_path, os.path.basename(url))\n",
    "    \n",
    "    if os.path.isfile(out_filename) and not force:\n",
    "        print(f'Corpus file {out_filename} exists, skipping download.')\n",
    "    else:\n",
    "        print(f'Downloading {url}...')\n",
    "        with urllib.request.urlopen(url) as response, open(out_filename, 'wb') as out_file:\n",
    "            shutil.copyfileobj(response, out_file)\n",
    "        print(f'Saved to {out_filename}.')\n",
    "    return out_filename\n",
    "    \n",
    "corpus_path = download_corpus()"
   ]
  },
  {
   "cell_type": "markdown",
   "metadata": {},
   "source": [
    "Load the text into memory and print a snippet:"
   ]
  },
  {
   "cell_type": "code",
   "execution_count": 4,
   "metadata": {},
   "outputs": [
    {
     "name": "stdout",
     "output_type": "stream",
     "text": [
      "Corpus length: 6347703 chars\n",
      "ALLS WELL THAT ENDS WELL\n",
      "\n",
      "by William Shakespeare\n",
      "\n",
      "Dramatis Personae\n",
      "\n",
      "  KING OF FRANCE\n",
      "  THE DUKE OF FLORENCE\n",
      "  BERTRAM, Count of Rousillon\n",
      "  LAFEU, an old lord\n",
      "  PAROLLES, a follower of Bertram\n",
      "  TWO FRENCH LORDS, serving with Bertram\n",
      "\n",
      "  STEWARD, Servant to the Countess of Rousillon\n",
      "  LAVACHE, a clown and Servant to the Countess of Rousillon\n",
      "  A PAGE, Servant to the Countess of Rousillon\n",
      "\n",
      "  COUNTESS OF ROUSILLON, mother to Bertram\n",
      "  HELENA, a gentlewoman protected by the Countess\n",
      "  A WIDOW OF FLORENCE.\n",
      "  DIANA, daughter to the Widow\n",
      "\n",
      "  VIOLENTA, neighbour and friend to the Widow\n",
      "  MARIANA, neighbour and friend to the Widow\n",
      "\n",
      "  Lords, Officers, Soldiers, etc., French and Florentine  \n",
      "\n",
      "SCENE:\n",
      "Rousillon; Paris; Florence; Marseilles\n",
      "\n",
      "ACT I. SCENE 1.\n",
      "Rousillon. The COUNT'S palace\n",
      "\n",
      "Enter BERTRAM, the COUNTESS OF ROUSILLON, HELENA, and LAFEU, all in black\n",
      "\n",
      "  COUNTESS. In delivering my son from me, I bury a second husband.\n",
      "  BERTRAM. And I in going, madam, weep o'er my father's death anew;\n",
      "    but I must attend his Majesty's command, to whom I am now in\n",
      "    ward, evermore in subjection.\n",
      "  LAFEU. You shall find of the King a husband, madam; you, sir, a\n",
      "    father. He that so generally is at all times good must of\n",
      "    \n"
     ]
    }
   ],
   "source": [
    "with open(corpus_path, 'r', encoding='utf-8') as f:\n",
    "    corpus = f.read()\n",
    "\n",
    "print(f'Corpus length: {len(corpus)} chars')\n",
    "print(corpus[7:1234])"
   ]
  },
  {
   "cell_type": "markdown",
   "metadata": {},
   "source": [
    "### Data Preprocessing\n",
    "<a id=part1_3></a>"
   ]
  },
  {
   "cell_type": "markdown",
   "metadata": {},
   "source": [
    "The first thing we'll need is to map from each unique character in the corpus to an index that will represent it in our learning process.\n",
    "\n",
    "**TODO**: Implement the `char_maps()` function in the `hw3/charnn.py` module."
   ]
  },
  {
   "cell_type": "code",
   "execution_count": 5,
   "metadata": {},
   "outputs": [
    {
     "name": "stdout",
     "output_type": "stream",
     "text": [
      "{'\\n': 0, ' ': 1, '!': 2, '\"': 3, '$': 4, '&': 5, \"'\": 6, '(': 7, ')': 8, ',': 9, '-': 10, '.': 11, '0': 12, '1': 13, '2': 14, '3': 15, '4': 16, '5': 17, '6': 18, '7': 19, '8': 20, '9': 21, ':': 22, ';': 23, '<': 24, '?': 25, 'A': 26, 'B': 27, 'C': 28, 'D': 29, 'E': 30, 'F': 31, 'G': 32, 'H': 33, 'I': 34, 'J': 35, 'K': 36, 'L': 37, 'M': 38, 'N': 39, 'O': 40, 'P': 41, 'Q': 42, 'R': 43, 'S': 44, 'T': 45, 'U': 46, 'V': 47, 'W': 48, 'X': 49, 'Y': 50, 'Z': 51, '[': 52, ']': 53, '_': 54, 'a': 55, 'b': 56, 'c': 57, 'd': 58, 'e': 59, 'f': 60, 'g': 61, 'h': 62, 'i': 63, 'j': 64, 'k': 65, 'l': 66, 'm': 67, 'n': 68, 'o': 69, 'p': 70, 'q': 71, 'r': 72, 's': 73, 't': 74, 'u': 75, 'v': 76, 'w': 77, 'x': 78, 'y': 79, 'z': 80, '}': 81, '\\ufeff': 82}\n"
     ]
    }
   ],
   "source": [
    "import hw3.charnn as charnn\n",
    "\n",
    "char_to_idx, idx_to_char = charnn.char_maps(corpus)\n",
    "print(char_to_idx)\n",
    "\n",
    "test.assertEqual(len(char_to_idx), len(idx_to_char))\n",
    "test.assertSequenceEqual(list(char_to_idx.keys()), list(idx_to_char.values()))\n",
    "test.assertSequenceEqual(list(char_to_idx.values()), list(idx_to_char.keys()))"
   ]
  },
  {
   "cell_type": "markdown",
   "metadata": {},
   "source": [
    "Seems we have some strange characters in the corpus that are very rare and are probably due to mistakes.\n",
    "To reduce the length of each tensor we'll need to later represent our chars, it's best to remove them.\n",
    "\n",
    "**TODO**: Implement the `remove_chars()` function in the `hw3/charnn.py` module."
   ]
  },
  {
   "cell_type": "code",
   "execution_count": 6,
   "metadata": {},
   "outputs": [
    {
     "name": "stdout",
     "output_type": "stream",
     "text": [
      "Removed 34 chars\n"
     ]
    }
   ],
   "source": [
    "corpus, n_removed = charnn.remove_chars(corpus, ['}','$','_','<','\\ufeff'])\n",
    "print(f'Removed {n_removed} chars')\n",
    "\n",
    "# After removing the chars, re-create the mappings\n",
    "char_to_idx, idx_to_char = charnn.char_maps(corpus)"
   ]
  },
  {
   "cell_type": "markdown",
   "metadata": {},
   "source": [
    "The next thing we need is an **embedding** of the chracters.\n",
    "An embedding is a representation of each token from the sequence as a tensor.\n",
    "For a char-level RNN, our tokens will be chars and we can thus use the simplest possible embedding: encode each char as a **one-hot** tensor. In other words, each char will be represented\n",
    "as a tensor whos length is the total number of unique chars (`V`) which contains all zeros except at the index\n",
    "corresponding to that specific char.\n",
    "\n",
    "**TODO**: Implement the functions `chars_to_onehot()` and `onehot_to_chars()` in the `hw3/charnn.py` module."
   ]
  },
  {
   "cell_type": "code",
   "execution_count": 7,
   "metadata": {},
   "outputs": [
    {
     "name": "stdout",
     "output_type": "stream",
     "text": [
      "brine a maiden can season her praise in.\n",
      "   \n",
      "tensor([[0, 0, 0, 0, 0, 0, 0, 0, 0, 0, 0, 0, 0, 0, 0, 0, 0, 0, 0, 0, 0, 0, 0, 0,\n",
      "         0, 0, 0, 0, 0, 0, 0, 0, 0, 0, 0, 0, 0, 0, 0, 0, 0, 0, 0, 0, 0, 0, 0, 0,\n",
      "         0, 0, 0, 0, 0, 1, 0, 0, 0, 0, 0, 0, 0, 0, 0, 0, 0, 0, 0, 0, 0, 0, 0, 0,\n",
      "         0, 0, 0, 0, 0, 0],\n",
      "        [0, 0, 0, 0, 0, 0, 0, 0, 0, 0, 0, 0, 0, 0, 0, 0, 0, 0, 0, 0, 0, 0, 0, 0,\n",
      "         0, 0, 0, 0, 0, 0, 0, 0, 0, 0, 0, 0, 0, 0, 0, 0, 0, 0, 0, 0, 0, 0, 0, 0,\n",
      "         0, 0, 0, 0, 0, 0, 0, 0, 0, 0, 0, 0, 0, 0, 0, 0, 0, 0, 0, 0, 0, 1, 0, 0,\n",
      "         0, 0, 0, 0, 0, 0],\n",
      "        [0, 0, 0, 0, 0, 0, 0, 0, 0, 0, 0, 0, 0, 0, 0, 0, 0, 0, 0, 0, 0, 0, 0, 0,\n",
      "         0, 0, 0, 0, 0, 0, 0, 0, 0, 0, 0, 0, 0, 0, 0, 0, 0, 0, 0, 0, 0, 0, 0, 0,\n",
      "         0, 0, 0, 0, 0, 0, 0, 0, 0, 0, 0, 0, 1, 0, 0, 0, 0, 0, 0, 0, 0, 0, 0, 0,\n",
      "         0, 0, 0, 0, 0, 0]], dtype=torch.int8)\n"
     ]
    }
   ],
   "source": [
    "# Wrap the actual embedding functions for calling convenience\n",
    "def embed(text):\n",
    "    return charnn.chars_to_onehot(text, char_to_idx)\n",
    "\n",
    "def unembed(embedding):\n",
    "    return charnn.onehot_to_chars(embedding, idx_to_char)\n",
    "\n",
    "text_snippet = corpus[3104:3148]\n",
    "print(text_snippet)\n",
    "print(embed(text_snippet[0:3]))\n",
    "\n",
    "test.assertEqual(text_snippet, unembed(embed(text_snippet)))\n",
    "test.assertEqual(embed(text_snippet).dtype, torch.int8)"
   ]
  },
  {
   "cell_type": "markdown",
   "metadata": {},
   "source": [
    "### Dataset Creation\n",
    "<a id=part1_4></a>"
   ]
  },
  {
   "cell_type": "markdown",
   "metadata": {},
   "source": [
    "We wish to train our model to generate text by constantly predicting what the next char should be based on the past.\n",
    "To that end we'll need to train our recurrent network in a way similar to a classification task. At each timestep, we input a char and set the expected output (label) to be the next char in the original sequence.\n",
    "\n",
    "We will split our corpus into shorter sequences of length `S` chars (see question below).\n",
    "Each **sample** we provide our model with will therefore be a tensor of shape `(S,V)` where `V` is the embedding dimension. Our model will operate sequentially on each char in the sequence.\n",
    "For each sample, we'll also need a **label**. This is simply another sequence, shifted by one char so that the label of each char is the next char in the corpus."
   ]
  },
  {
   "cell_type": "markdown",
   "metadata": {},
   "source": [
    "**TODO**: Implement the `chars_to_labelled_samples()` function in the `hw3/charnn.py` module."
   ]
  },
  {
   "cell_type": "code",
   "execution_count": 8,
   "metadata": {},
   "outputs": [
    {
     "name": "stdout",
     "output_type": "stream",
     "text": [
      "samples shape: torch.Size([99182, 64, 78])\n",
      "labels shape: torch.Size([99182, 64])\n"
     ]
    }
   ],
   "source": [
    "# Create dataset of sequences\n",
    "seq_len = 64\n",
    "vocab_len = len(char_to_idx)\n",
    "\n",
    "# Create labelled samples\n",
    "samples, labels = charnn.chars_to_labelled_samples(corpus, char_to_idx, seq_len, device)\n",
    "print(f'samples shape: {samples.shape}')\n",
    "print(f'labels shape: {labels.shape}')\n",
    "\n",
    "# Test shapes\n",
    "num_samples = (len(corpus) - 1) // seq_len\n",
    "test.assertEqual(samples.shape, (num_samples, seq_len, vocab_len))\n",
    "test.assertEqual(labels.shape, (num_samples, seq_len))\n",
    "\n",
    "# Test content\n",
    "for _ in range(1000):\n",
    "    # random sample\n",
    "    i = np.random.randint(num_samples, size=(1,))[0]\n",
    "    # Compare to corpus\n",
    "    test.assertEqual(unembed(samples[i]), corpus[i*seq_len:(i+1)*seq_len], msg=f\"content mismatch in sample {i}\")\n",
    "    # Compare to labels\n",
    "    sample_text = unembed(samples[i])\n",
    "    label_text = str.join('', [idx_to_char[j.item()] for j in labels[i]])\n",
    "    test.assertEqual(sample_text[1:], label_text[0:-1], msg=f\"label mismatch in sample {i}\")"
   ]
  },
  {
   "cell_type": "markdown",
   "metadata": {},
   "source": [
    "Let's print a few consecutive samples. You should see that the text continues between them."
   ]
  },
  {
   "cell_type": "code",
   "execution_count": 9,
   "metadata": {},
   "outputs": [
    {
     "name": "stdout",
     "output_type": "stream",
     "text": [
      "sample [19996]:\n",
      "\tyour master? BARDOLPH. In bodily health, sir. POINS. Marry\n",
      "sample [19997]:\n",
      "\t, the immortal part needs a physician; but that moves not hi\n",
      "sample [19998]:\n",
      "\tm. Though that be sick, it dies not. PRINCE. I do allow this w\n",
      "sample [19999]:\n",
      "\tell to be as familiar with me as my dog; and he holds his pl\n",
      "sample [20000]:\n",
      "\tace, for look you how he writes. POINS. [Reads] 'John Falsta\n"
     ]
    }
   ],
   "source": [
    "import re\n",
    "import random\n",
    "\n",
    "i = random.randrange(num_samples-5)\n",
    "for i in range(i, i+5):\n",
    "    test.assertEqual(len(samples[i]), seq_len)\n",
    "    s = re.sub(r'\\s+', ' ', unembed(samples[i])).strip()\n",
    "    print(f'sample [{i}]:\\n\\t{s}')"
   ]
  },
  {
   "cell_type": "markdown",
   "metadata": {},
   "source": [
    "As usual, instead of feeding one sample at a time into our model's forward we'll work with **batches** of samples. This means that at every timestep, our model will operate on a batch of chars that are from **different sequences**.\n",
    "Effectively this will allow us to parallelize training our model by dong matrix-matrix multiplications\n",
    "instead of matrix-vector during the forward pass."
   ]
  },
  {
   "cell_type": "markdown",
   "metadata": {},
   "source": [
    "An important nuance is that we need the batches to be **contiguous**, i.e. sample $k$ in batch $j$ should continue sample $k$ from batch $j-1$.\n",
    "The following figure illustrates this:\n",
    "\n",
    "<img src=\"imgs/rnn-batching.png\"/>\n",
    "\n",
    "If we naïvely take consecutive samples into batches, e.g. `[0,1,...,B-1]`, `[B,B+1,...,2B-1]` and so on, we won't have contiguous\n",
    "sequences at the same index between adjacent batches.\n",
    "\n",
    "To accomplish this we need to tell our `DataLoader` which samples to combine together into one batch.\n",
    "We do this by implementing a custom PyTorch `Sampler`, and providing it to our `DataLoader`."
   ]
  },
  {
   "cell_type": "markdown",
   "metadata": {},
   "source": [
    "**TODO**: Implement the `SequenceBatchSampler` class in the `hw3/charnn.py` module."
   ]
  },
  {
   "cell_type": "code",
   "execution_count": 10,
   "metadata": {},
   "outputs": [
    {
     "name": "stdout",
     "output_type": "stream",
     "text": [
      "sampler_idx =\n",
      " [0, 3, 6, 9, 12, 15, 18, 21, 24, 27, 1, 4, 7, 10, 13, 16, 19, 22, 25, 28, 2, 5, 8, 11, 14, 17, 20, 23, 26, 29]\n"
     ]
    }
   ],
   "source": [
    "from hw3.charnn import SequenceBatchSampler\n",
    "\n",
    "sampler = SequenceBatchSampler(dataset=range(32), batch_size=10)\n",
    "sampler_idx = list(sampler)\n",
    "print('sampler_idx =\\n', sampler_idx)\n",
    "\n",
    "# Test the Sampler\n",
    "test.assertEqual(len(sampler_idx), 30)\n",
    "batch_idx = np.array(sampler_idx).reshape(-1, 10)\n",
    "for k in range(10):\n",
    "    test.assertEqual(np.diff(batch_idx[:, k], n=2).item(), 0)"
   ]
  },
  {
   "cell_type": "markdown",
   "metadata": {},
   "source": [
    "Even though we're working with sequences, we can still use the standard PyTorch `Dataset`/`DataLoader` combo.\n",
    "For the dataset we can use a built-in class, `TensorDataset` to return tuples of `(sample, label)`\n",
    "from the `samples` and `labels` tensors we created above.\n",
    "The `DataLoader` will be provided with our custom `Sampler` so that it generates appropriate batches."
   ]
  },
  {
   "cell_type": "code",
   "execution_count": 11,
   "metadata": {},
   "outputs": [],
   "source": [
    "import torch.utils.data\n",
    "\n",
    "# Create DataLoader returning batches of samples.\n",
    "batch_size = 32\n",
    "\n",
    "ds_corpus = torch.utils.data.TensorDataset(samples, labels)\n",
    "sampler_corpus = SequenceBatchSampler(ds_corpus, batch_size)\n",
    "dl_corpus = torch.utils.data.DataLoader(ds_corpus, batch_size=batch_size, sampler=sampler_corpus, shuffle=False)"
   ]
  },
  {
   "cell_type": "markdown",
   "metadata": {},
   "source": [
    "Let's see what that gives us:"
   ]
  },
  {
   "cell_type": "code",
   "execution_count": 12,
   "metadata": {},
   "outputs": [
    {
     "name": "stdout",
     "output_type": "stream",
     "text": [
      "num batches: 3100\n",
      "shape of a batch of samples: torch.Size([32, 64, 78])\n",
      "shape of a batch of labels: torch.Size([32, 64])\n"
     ]
    }
   ],
   "source": [
    "print(f'num batches: {len(dl_corpus)}')\n",
    "\n",
    "x0, y0 = next(iter(dl_corpus))\n",
    "print(f'shape of a batch of samples: {x0.shape}')\n",
    "print(f'shape of a batch of labels: {y0.shape}')"
   ]
  },
  {
   "cell_type": "markdown",
   "metadata": {},
   "source": [
    "Now lets look at the same sample index from multiple batches taken from our corpus."
   ]
  },
  {
   "cell_type": "code",
   "execution_count": 13,
   "metadata": {},
   "outputs": [
    {
     "name": "stdout",
     "output_type": "stream",
     "text": [
      "=== batch 0, sample 8 (torch.Size([64, 78])): ===\n",
      "\tanswer thee with words, but blows.\n",
      "=== batch 1, sample 8 (torch.Size([64, 78])): ===\n",
      "\t[Here they skirmish again] MAYOR. Nought rests for m\n",
      "=== batch 2, sample 8 (torch.Size([64, 78])): ===\n",
      "\te in this tumultuous strife But to make open proclamation.\n",
      "=== batch 3, sample 8 (torch.Size([64, 78])): ===\n",
      "\tCome, officer, as loud as e'er thou canst, Cry. OFFIC\n",
      "=== batch 4, sample 8 (torch.Size([64, 78])): ===\n",
      "\tER. [Cries] All manner of men assembled here in arms this\n"
     ]
    }
   ],
   "source": [
    "# Check that sentences in in same index of different batches complete each other.\n",
    "k = random.randrange(batch_size)\n",
    "for j, (X, y) in enumerate(dl_corpus,):\n",
    "    print(f'=== batch {j}, sample {k} ({X[k].shape}): ===')\n",
    "    s = re.sub(r'\\s+', ' ', unembed(X[k])).strip()\n",
    "    print(f'\\t{s}')\n",
    "    if j==4: break"
   ]
  },
  {
   "cell_type": "markdown",
   "metadata": {},
   "source": [
    "### Model Implementation\n",
    "<a id=part1_5></a>"
   ]
  },
  {
   "cell_type": "markdown",
   "metadata": {},
   "source": [
    "Finally, our data set is ready so we can focus on our model.\n",
    "\n",
    "We'll implement here is a multilayer gated recurrent unit (GRU) model, with dropout.\n",
    "This model is a type of RNN which performs similar to the well-known LSTM model,\n",
    "but it's somewhat easier to train because it has less parameters.\n",
    "We'll modify the regular GRU slightly by applying dropout to\n",
    "the hidden states passed between layers of the model.\n",
    "\n",
    "The model accepts an input $\\mat{X}\\in\\set{R}^{S\\times V}$ containing a sequence of embedded chars.\n",
    "It returns an output $\\mat{Y}\\in\\set{R}^{S\\times V}$ of predictions for the next char and the final hidden state\n",
    "$\\mat{H}\\in\\set{R}^{L\\times H}$. Here $S$ is the sequence length, $V$ is the vocabulary size (number of unique chars), $L$ is the number of layers in the model and $H$ is the hidden dimension."
   ]
  },
  {
   "cell_type": "markdown",
   "metadata": {},
   "source": [
    "Mathematically, the model's forward function at layer $k\\in[1,L]$ and timestep $t\\in[1,S]$ can be described as\n",
    "\n",
    "$$\n",
    "\\begin{align}\n",
    "\\vec{z_t}^{[k]} &= \\sigma\\left(\\vec{x}^{[k]}_t {\\mattr{W}_{\\mathrm{xz}}}^{[k]} +\n",
    "    \\vec{h}_{t-1}^{[k]} {\\mattr{W}_{\\mathrm{hz}}}^{[k]} + \\vec{b}_{\\mathrm{z}}^{[k]}\\right) \\\\\n",
    "\\vec{r_t}^{[k]} &= \\sigma\\left(\\vec{x}^{[k]}_t {\\mattr{W}_{\\mathrm{xr}}}^{[k]} +\n",
    "    \\vec{h}_{t-1}^{[k]} {\\mattr{W}_{\\mathrm{hr}}}^{[k]} + \\vec{b}_{\\mathrm{r}}^{[k]}\\right) \\\\\n",
    "\\vec{g_t}^{[k]} &= \\tanh\\left(\\vec{x}^{[k]}_t {\\mattr{W}_{\\mathrm{xg}}}^{[k]} +\n",
    "    (\\vec{r_t}^{[k]}\\odot\\vec{h}_{t-1}^{[k]}) {\\mattr{W}_{\\mathrm{hg}}}^{[k]} + \\vec{b}_{\\mathrm{g}}^{[k]}\\right) \\\\\n",
    "\\vec{h_t}^{[k]} &= \\vec{z}^{[k]}_t \\odot \\vec{h}^{[k]}_{t-1} + \\left(1-\\vec{z}^{[k]}_t\\right)\\odot \\vec{g_t}^{[k]}\n",
    "\\end{align}\n",
    "$$"
   ]
  },
  {
   "cell_type": "markdown",
   "metadata": {},
   "source": [
    "The input to each layer is,\n",
    "$$\n",
    "\\mat{X}^{[k]} =\n",
    "\\begin{bmatrix}\n",
    "    {\\vec{x}_1}^{[k]} \\\\ \\vdots \\\\ {\\vec{x}_S}^{[k]}\n",
    "\\end{bmatrix} \n",
    "=\n",
    "\\begin{cases}\n",
    "    \\mat{X} & \\mathrm{if} ~k = 1~ \\\\\n",
    "    \\mathrm{dropout}_p \\left(\n",
    "    \\begin{bmatrix}\n",
    "        {\\vec{h}_1}^{[k-1]} \\\\ \\vdots \\\\ {\\vec{h}_S}^{[k-1]}\n",
    "    \\end{bmatrix} \\right) & \\mathrm{if} ~1 < k \\leq L+1~\n",
    "\\end{cases}.\n",
    "$$"
   ]
  },
  {
   "cell_type": "markdown",
   "metadata": {},
   "source": [
    "The output of the entire model is then,\n",
    "$$\n",
    "\\mat{Y} = \\mat{X}^{[L+1]} {\\mattr{W}_{\\mathrm{hy}}} + \\mat{B}_{\\mathrm{y}}\n",
    "$$"
   ]
  },
  {
   "cell_type": "markdown",
   "metadata": {},
   "source": [
    "and the final hidden state is\n",
    "$$\n",
    "\\mat{H} = \n",
    "\\begin{bmatrix}\n",
    "    {\\vec{h}_S}^{[1]} \\\\ \\vdots \\\\ {\\vec{h}_S}^{[L]}\n",
    "\\end{bmatrix}.\n",
    "$$"
   ]
  },
  {
   "cell_type": "markdown",
   "metadata": {},
   "source": [
    "Notes:\n",
    "- $t\\in[1,S]$ is the timestep, i.e. the current position within the sequence of each sample.\n",
    "- $\\vec{x}_t^{[k]}$ is the input of layer $k$ at timestep $t$, respectively.\n",
    "- The outputs of the **last layer** $\\vec{y}_t^{[L]}$, are the predicted next characters for every input char.\n",
    "  These are similar to class scores in classification tasks.\n",
    "- The hidden states at the **last timestep**, $\\vec{h}_S^{[k]}$, are the final hidden state returned from the model.\n",
    "- $\\sigma(\\cdot)$ is the sigmoid function, i.e. $\\sigma(\\vec{z}) = 1/(1+e^{-\\vec{z}})$ which returns values in $(0,1)$.\n",
    "- $\\tanh(\\cdot)$ is the hyperbolic tangent, i.e. $\\tanh(\\vec{z}) = (e^{2\\vec{z}}-1)/(e^{2\\vec{z}}+1)$ which returns values in $(-1,1)$.\n",
    "- $\\vec{h_t}^{[k]}$ is the hidden state of layer $k$ at time $t$. This can be thought of as the memory of that layer.\n",
    "- $\\vec{g_t}^{[k]}$ is the candidate hidden state for time $t+1$.\n",
    "- $\\vec{z_t}^{[k]}$ is known as the update gate. It combines the previous state with the input to determine how much the current state will be combined with the new candidate state. For example, if $\\vec{z_t}^{[k]}=\\vec{1}$ then the current input has no effect on the output.\n",
    "- $\\vec{r_t}^{[k]}$ is known as the reset gate. It combines the previous state with the input to determine how much of the previous state will affect the current state candidate. For example if $\\vec{r_t}^{[k]}=\\vec{0}$ the previous state has no effect on the current candidate state."
   ]
  },
  {
   "cell_type": "markdown",
   "metadata": {},
   "source": [
    "Here's a graphical representation of the GRU's forward pass at each timestep. The $\\vec{\\tilde{h}}$ in the image is our $\\vec{g}$ (candidate next state).\n",
    "\n",
    "<img src=\"imgs/gru_cell.png\" width=\"400\"/>\n",
    "\n",
    "You can see how the reset and update gates allow the model to completely ignore it's previous state, completely ignore it's input, or any mixture of those states (since the gates are actually continuous and between $(0,1)$)."
   ]
  },
  {
   "cell_type": "markdown",
   "metadata": {},
   "source": [
    "Here's a graphical representation of the entire model.\n",
    "You can ignore the $c_t^{[k]}$ (cell state) variables (which are relevant for LSTM models).\n",
    "Our model has only the hidden state, $h_t^{[k]}$. Also notice that we added dropout between layers (i.e., on the up arrows).\n",
    "\n",
    "<img src=\"imgs/lstm_model.png\" />\n",
    "\n",
    "The purple tensors are inputs (a sequence and initial hidden state per layer), and the green tensors are outputs (another sequence and final hidden state per layer). Each blue block implements the above forward equations.\n",
    "Blocks that are on the same vertical level are at the same layer, and therefore share parameters."
   ]
  },
  {
   "cell_type": "markdown",
   "metadata": {},
   "source": [
    "**TODO**:implement `MultilayerGRU` class in the `hw3/charnn.py` module.\n",
    "\n",
    "\n",
    "Notes:\n",
    "- We use **batches** now.\n",
    "  The math is identical to the above, but all the tensors will have an extra batch \n",
    "  dimension as their first dimension.\n",
    "- Read the diagram above, try to understand all the dimentions.\n"
   ]
  },
  {
   "cell_type": "code",
   "execution_count": 14,
   "metadata": {},
   "outputs": [
    {
     "name": "stdout",
     "output_type": "stream",
     "text": [
      "MultilayerGRU(\n",
      "  (layer_0: W_xz): Linear(in_features=78, out_features=256, bias=False)\n",
      "  (layer_0: W_xr): Linear(in_features=78, out_features=256, bias=False)\n",
      "  (layer_0: W_xg): Linear(in_features=78, out_features=256, bias=False)\n",
      "  (layer_0: W_hz): Linear(in_features=256, out_features=256, bias=True)\n",
      "  (layer_0: W_hr): Linear(in_features=256, out_features=256, bias=True)\n",
      "  (layer_0: W_hg): Linear(in_features=256, out_features=256, bias=True)\n",
      "  (layer_0: dropout): Dropout(p=0, inplace=False)\n",
      "  (layer_1: W_xz): Linear(in_features=256, out_features=256, bias=False)\n",
      "  (layer_1: W_xr): Linear(in_features=256, out_features=256, bias=False)\n",
      "  (layer_1: W_xg): Linear(in_features=256, out_features=256, bias=False)\n",
      "  (layer_1: W_hz): Linear(in_features=256, out_features=256, bias=True)\n",
      "  (layer_1: W_hr): Linear(in_features=256, out_features=256, bias=True)\n",
      "  (layer_1: W_hg): Linear(in_features=256, out_features=256, bias=True)\n",
      "  (layer_1: dropout): Dropout(p=0, inplace=False)\n",
      "  (layer_2: W_xz): Linear(in_features=256, out_features=256, bias=False)\n",
      "  (layer_2: W_xr): Linear(in_features=256, out_features=256, bias=False)\n",
      "  (layer_2: W_xg): Linear(in_features=256, out_features=256, bias=False)\n",
      "  (layer_2: W_hz): Linear(in_features=256, out_features=256, bias=True)\n",
      "  (layer_2: W_hr): Linear(in_features=256, out_features=256, bias=True)\n",
      "  (layer_2: W_hg): Linear(in_features=256, out_features=256, bias=True)\n",
      "  (layer_2: dropout): Dropout(p=0, inplace=False)\n",
      "  (W_hy): Linear(in_features=256, out_features=78, bias=True)\n",
      ")\n",
      "y.shape=torch.Size([32, 64, 78])\n",
      "h.shape=torch.Size([32, 3, 256])\n"
     ]
    }
   ],
   "source": [
    "in_dim = vocab_len\n",
    "h_dim = 256\n",
    "n_layers = 3\n",
    "model = charnn.MultilayerGRU(in_dim, h_dim, out_dim=in_dim, n_layers=n_layers)\n",
    "model = model.to(device)\n",
    "print(model)\n",
    "\n",
    "# Test forward pass\n",
    "y, h = model(x0.to(dtype=torch.float, device=device))\n",
    "print(f'y.shape={y.shape}')\n",
    "print(f'h.shape={h.shape}')\n",
    "\n",
    "test.assertEqual(y.shape, (batch_size, seq_len, vocab_len))\n",
    "test.assertEqual(h.shape, (batch_size, n_layers, h_dim))\n",
    "test.assertEqual(len(list(model.parameters())), 9 * n_layers + 2) "
   ]
  },
  {
   "cell_type": "markdown",
   "metadata": {},
   "source": [
    "### Generating text by sampling\n",
    "<a id=part1_6></a>"
   ]
  },
  {
   "cell_type": "markdown",
   "metadata": {},
   "source": [
    "Now that we have a model, we can implement **text generation** based on it.\n",
    "The idea is simple:\n",
    "At each timestep our model receives one char $x_t$ from the input sequence and outputs scores $y_t$\n",
    "for what the next char should be.\n",
    "We'll convert these scores into a probability over each of the possible chars.\n",
    "In other words, for each input char $x_t$ we create a probability distribution for the next char\n",
    "conditioned on the current one and the state of the model (representing all previous inputs):\n",
    "$$p(x_{t+1}|x_t, \\vec{h}_t).$$\n",
    "\n",
    "Once we have such a distribution, we'll sample a char from it.\n",
    "This will be the first char of our generated sequence.\n",
    "Now we can feed this new char into the model, create another distribution, sample the next char and so on.\n",
    "Note that it's crucial to propagate the hidden state when sampling."
   ]
  },
  {
   "cell_type": "markdown",
   "metadata": {},
   "source": [
    "The important point however is how to create the distribution from the scores.\n",
    "One way, as we saw in previous ML tasks, is to use the softmax function.\n",
    "However, a drawback of softmax is that it can generate very diffuse (more uniform) distributions if the score values are very similar. When sampling, we would prefer to control the distributions and make them less uniform to increase the chance of sampling the char(s) with the highest scores compared to the others.\n",
    "\n",
    "To control the variance of the distribution, a common trick is to add a hyperparameter $T$, known as the \n",
    "*temperature* to the softmax function. The class scores are simply scaled by $T$ before softmax is applied:\n",
    "$$\n",
    "\\mathrm{softmax}_T(\\vec{y}) = \\frac{e^{\\vec{y}/T}}{\\sum_k e^{y_k/T}}\n",
    "$$\n",
    "\n",
    "A low $T$ will result in less uniform distributions and vice-versa."
   ]
  },
  {
   "cell_type": "markdown",
   "metadata": {},
   "source": [
    "**TODO**: Implement the `hot_softmax()` function in the `hw3/charnn.py` module."
   ]
  },
  {
   "cell_type": "code",
   "execution_count": 15,
   "metadata": {},
   "outputs": [
    {
     "data": {
      "image/png": "[encoded data removed]",
      "text/plain": [
       "<Figure size 1500x500 with 1 Axes>"
      ]
     },
     "metadata": {},
     "output_type": "display_data"
    }
   ],
   "source": [
    "scores = y[0,0,:].detach()\n",
    "_, ax = plt.subplots(figsize=(15,5))\n",
    "\n",
    "for t in reversed([0.3, 0.5, 1.0, 100]):\n",
    "    ax.plot(charnn.hot_softmax(scores, temperature=t).cpu().numpy(), label=f'T={t}')\n",
    "ax.set_xlabel('$x_{t+1}$')\n",
    "ax.set_ylabel('$p(x_{t+1}|x_t)$')\n",
    "ax.legend()\n",
    "\n",
    "uniform_proba = 1/len(char_to_idx)\n",
    "uniform_diff = torch.abs(charnn.hot_softmax(scores, temperature=100) - uniform_proba)\n",
    "test.assertTrue(torch.all(uniform_diff < 1e-4))"
   ]
  },
  {
   "cell_type": "markdown",
   "metadata": {},
   "source": [
    "**TODO**: Implement the `generate_from_model()` function in the `hw3/charnn.py` module."
   ]
  },
  {
   "cell_type": "code",
   "execution_count": 16,
   "metadata": {},
   "outputs": [
    {
     "name": "stdout",
     "output_type": "stream",
     "text": [
      "foobar:STKG2)Y9r.wt 6xu.b- 4k1tAa!N&,AvU8(7P)Y7;-p\n",
      "foobar9lyAHd]v16R.r3ZiszFbeAQk\n",
      "Cy06s3]jvlu],pXS17D\n",
      "foobarNUD'6)qK'(vlO-2,[sEr!H!&em\n",
      "&JWrWv62jxf2',TCC\n"
     ]
    }
   ],
   "source": [
    "for _ in range(3):\n",
    "    text = charnn.generate_from_model(model, \"foobar\", 50, (char_to_idx, idx_to_char), T=0.5)\n",
    "    print(text)\n",
    "    test.assertEqual(len(text), 50)"
   ]
  },
  {
   "cell_type": "markdown",
   "metadata": {},
   "source": [
    "### Training\n",
    "<a id=part1_7></a>"
   ]
  },
  {
   "cell_type": "markdown",
   "metadata": {},
   "source": [
    "To train this model, we'll calculate the loss at each time step by comparing the predicted char to\n",
    "the actual char from our label. We can use cross entropy since per char it's similar to a classification problem.\n",
    "We'll then sum the losses over the sequence and back-propagate the gradients though time.\n",
    "Notice that the back-propagation algorithm will \"visit\" each layer's parameter tensors multiple times,\n",
    "so we'll accumulate gradients in parameters of the blocks. Luckily `autograd` will handle this part for us."
   ]
  },
  {
   "cell_type": "markdown",
   "metadata": {},
   "source": [
    "As usual, the first step of training will be to try and **overfit** a large model (many parameters) to a tiny dataset.\n",
    "Again, this is to ensure the model and training code are implemented correctly, i.e. that the model can learn.\n",
    "\n",
    "For a generative model such as this, overfitting is slightly trickier than for classification.\n",
    "What we'll aim to do is to get our model to **memorize** a specific sequence of chars, so that when given the first\n",
    "char in the sequence it will immediately spit out the rest of the sequence verbatim.\n",
    "\n",
    "Let's create a tiny dataset to memorize."
   ]
  },
  {
   "cell_type": "code",
   "execution_count": 17,
   "metadata": {},
   "outputs": [
    {
     "name": "stdout",
     "output_type": "stream",
     "text": [
      "Text to \"memorize\":\n",
      "\n",
      "TRAM. What would you have?\n",
      "  HELENA. Something; and scarce so much; nothing, indeed.\n",
      "    I would not tell you what I would, my lord.\n",
      "    Faith, yes:\n",
      "    Strangers and foes do sunder and not kiss.\n",
      "  BERTRAM. I pray you, stay not, but in haste to horse.\n",
      "  HE\n"
     ]
    }
   ],
   "source": [
    "# Pick a tiny subset of the dataset\n",
    "subset_start, subset_end = 1001, 1005\n",
    "ds_corpus_ss = torch.utils.data.Subset(ds_corpus, range(subset_start, subset_end))\n",
    "batch_size_ss = 1\n",
    "sampler_ss = SequenceBatchSampler(ds_corpus_ss, batch_size=batch_size_ss)\n",
    "dl_corpus_ss = torch.utils.data.DataLoader(ds_corpus_ss, batch_size_ss, sampler=sampler_ss, shuffle=False)\n",
    "\n",
    "# Convert subset to text\n",
    "subset_text = ''\n",
    "for i in range(subset_end - subset_start):\n",
    "    subset_text += unembed(ds_corpus_ss[i][0])\n",
    "print(f'Text to \"memorize\":\\n\\n{subset_text}')"
   ]
  },
  {
   "cell_type": "markdown",
   "metadata": {},
   "source": [
    "Now let's implement the first part of our training code.\n",
    "\n",
    "**TODO**: Implement the `train_epoch()` and `train_batch()` methods of the `RNNTrainer` class in the `hw3/training.py` module. \n",
    "You must think about how to correctly handle the hidden state of the model between batches and epochs for this specific task (i.e. text generation)."
   ]
  },
  {
   "cell_type": "code",
   "execution_count": 18,
   "metadata": {},
   "outputs": [
    {
     "name": "stdout",
     "output_type": "stream",
     "text": [
      "\n",
      "Epoch #1: Avg. loss = 253.083, Accuracy = 18.36%\n",
      "Twn                                               n                                                                                                                                                                                                             \n",
      "\n",
      "Epoch #25: Avg. loss = 71.743, Accuracy = 67.97%\n",
      "TAM.  Some hande nothinge inge inge not inge inge inge inge inge you  yout inge inge inge inge inge inge inge inge not inge inge sor  ande not, not, not, not, not inge inge not inge in  yout inge inge inge inge inge sor  ande not s and not s and not, not, \n",
      "\n",
      "Epoch #50: Avg. loss = 3.475, Accuracy = 100.00%\n",
      "TRAM. What would you have?\n",
      "  HELENA. Something; and scarce so much; nothing, indeed.\n",
      "    I would not tell you what I would, my lord.\n",
      "    Faith, yes:\n",
      "    Strangers and foes do sunder and not kiss.\n",
      "  BERTRAM. I pray you, stay not, but in haste to horse.\n",
      "  HE\n"
     ]
    }
   ],
   "source": [
    "import torch.nn as nn\n",
    "import torch.optim as optim\n",
    "from hw3.training import RNNTrainer\n",
    "\n",
    "torch.manual_seed(42)\n",
    "\n",
    "lr = 0.01\n",
    "num_epochs = 500\n",
    "\n",
    "in_dim = vocab_len\n",
    "h_dim = 128\n",
    "n_layers = 2\n",
    "loss_fn = nn.CrossEntropyLoss()\n",
    "model = charnn.MultilayerGRU(in_dim, h_dim, out_dim=in_dim, n_layers=n_layers).to(device)\n",
    "optimizer = optim.Adam(model.parameters(), lr=lr)\n",
    "trainer = RNNTrainer(model, loss_fn, optimizer, device)\n",
    "\n",
    "for epoch in range(num_epochs):\n",
    "    epoch_result = trainer.train_epoch(dl_corpus_ss, verbose=False)\n",
    "    \n",
    "    # Every X epochs, we'll generate a sequence starting from the first char in the first sequence\n",
    "    # to visualize how/if/what the model is learning.\n",
    "    if epoch == 0 or (epoch+1) % 25 == 0:\n",
    "        avg_loss = np.mean(epoch_result.losses)\n",
    "        accuracy = np.mean(epoch_result.accuracy)\n",
    "        print(f'\\nEpoch #{epoch+1}: Avg. loss = {avg_loss:.3f}, Accuracy = {accuracy:.2f}%')\n",
    "        \n",
    "        generated_sequence = charnn.generate_from_model(model, subset_text[0],\n",
    "                                                        seq_len*(subset_end-subset_start),\n",
    "                                                        (char_to_idx,idx_to_char), T=0.1)\n",
    "        \n",
    "        # Stop if we've successfully memorized the small dataset.\n",
    "        print(generated_sequence)\n",
    "        if generated_sequence == subset_text:\n",
    "            break\n",
    "\n",
    "# Test successful overfitting\n",
    "test.assertGreater(epoch_result.accuracy, 99)\n",
    "test.assertEqual(generated_sequence, subset_text)"
   ]
  },
  {
   "cell_type": "markdown",
   "metadata": {},
   "source": [
    "OK, so training works - we can memorize a short sequence.\n",
    "We'll now train a much larger model on our large dataset. You'll need a GPU for this part.\n",
    "\n",
    "First, lets set up our dataset and models for training.\n",
    "We'll split our corpus into 90% train and 10% test-set.\n",
    "Also, we'll use a learning-rate scheduler to control the learning rate during training."
   ]
  },
  {
   "cell_type": "markdown",
   "metadata": {},
   "source": [
    "**TODO**: Set the hyperparameters in the `part1_rnn_hyperparams()` function of the `hw3/answers.py` module."
   ]
  },
  {
   "cell_type": "code",
   "execution_count": 19,
   "metadata": {},
   "outputs": [
    {
     "name": "stdout",
     "output_type": "stream",
     "text": [
      "hyperparams:\n",
      " {'batch_size': 64, 'seq_len': 80, 'h_dim': 100, 'n_layers': 3, 'dropout': 0.2, 'learn_rate': 0.002, 'lr_sched_factor': 0.1, 'lr_sched_patience': 4}\n",
      "Train: 1115 batches, 5708800 chars\n",
      "Test:  123 batches,  629760 chars\n"
     ]
    }
   ],
   "source": [
    "from hw3.answers import part1_rnn_hyperparams\n",
    "\n",
    "hp = part1_rnn_hyperparams()\n",
    "print('hyperparams:\\n', hp)\n",
    "\n",
    "### Dataset definition\n",
    "vocab_len = len(char_to_idx)\n",
    "batch_size = hp['batch_size']\n",
    "seq_len = hp['seq_len']\n",
    "train_test_ratio = 0.9 # was 0.9, like this for debugging test loop\n",
    "num_samples = (len(corpus) - 1) // seq_len\n",
    "num_train = int(train_test_ratio * num_samples)\n",
    "\n",
    "samples, labels = charnn.chars_to_labelled_samples(corpus, char_to_idx, seq_len, device)\n",
    "\n",
    "ds_train = torch.utils.data.TensorDataset(samples[:num_train], labels[:num_train])\n",
    "sampler_train = SequenceBatchSampler(ds_train, batch_size)\n",
    "dl_train = torch.utils.data.DataLoader(ds_train, batch_size, shuffle=False, sampler=sampler_train, drop_last=True)\n",
    "\n",
    "ds_test = torch.utils.data.TensorDataset(samples[num_train:], labels[num_train:])\n",
    "sampler_test = SequenceBatchSampler(ds_test, batch_size)\n",
    "dl_test = torch.utils.data.DataLoader(ds_test, batch_size, shuffle=False, sampler=sampler_test, drop_last=True)\n",
    "\n",
    "print(f'Train: {len(dl_train):3d} batches, {len(dl_train)*batch_size*seq_len:7d} chars')\n",
    "print(f'Test:  {len(dl_test):3d} batches, {len(dl_test)*batch_size*seq_len:7d} chars')\n",
    "\n",
    "### Training definition\n",
    "in_dim = out_dim = vocab_len\n",
    "checkpoint_file = 'checkpoints/rnn'\n",
    "num_epochs = 50\n",
    "early_stopping = 5\n",
    "\n",
    "model = charnn.MultilayerGRU(in_dim, hp['h_dim'], out_dim, hp['n_layers'], hp['dropout'])\n",
    "loss_fn = nn.CrossEntropyLoss()\n",
    "optimizer = optim.Adam(model.parameters(), lr=hp['learn_rate'])\n",
    "scheduler = optim.lr_scheduler.ReduceLROnPlateau(\n",
    "    optimizer, mode='max', factor=hp['lr_sched_factor'], patience=hp['lr_sched_patience'], verbose=True\n",
    ")\n",
    "trainer = RNNTrainer(model, loss_fn, optimizer, device)"
   ]
  },
  {
   "cell_type": "markdown",
   "metadata": {},
   "source": [
    "The code blocks below will train the model and save checkpoints containing the training state and the best model parameters to a file. This allows you to stop training and resume it later from where you left.\n",
    "\n",
    "Note that you can use the `main.py` script provided within the assignment folder to run this notebook from the command line as if it were a python script by using the `run-nb` subcommand. This allows you to train your model using this notebook without starting jupyter. You can combine this with `srun` or `sbatch` to run the notebook with a GPU on the course servers."
   ]
  },
  {
   "cell_type": "markdown",
   "metadata": {},
   "source": [
    "**TODO**:\n",
    "- Implement the `fit()` method of the `Trainer` class. You can reuse the relevant implementation parts from HW2, but make sure to implement early stopping and checkpoints.\n",
    "- Implement the `test_epoch()` and `test_batch()` methods of the `RNNTrainer` class in the `hw3/training.py` module.\n",
    "- Run the following block to train.\n",
    "- When training is done and you're satisfied with the model's outputs, rename the checkpoint file to `checkpoints/rnn_final.pt`.\n",
    "  This will cause the block to skip training and instead load your saved model when running the homework submission script.\n",
    "  Note that your submission zip file will not include the checkpoint file. This is OK."
   ]
  },
  {
   "cell_type": "code",
   "execution_count": 20,
   "metadata": {},
   "outputs": [
    {
     "name": "stdout",
     "output_type": "stream",
     "text": [
      "ACT I.q]RwGof\"mP\"0xKjl945aEX\n",
      "hkfz8!RpRvO)MoR&4'1;v]z)Mad3;,&4X]3O&TE\n",
      "X]y\n",
      "c&kkWKqh)kqy-XqIMuw6EP?80Ra\n",
      "--- EPOCH 1/50 ---\n",
      "train_batch (Avg. Loss 172.909, Accuracy 40.5): 100%|██████████████████████████████| 1115/1115 [08:22<00:00,  2.22it/s]\n",
      "test_batch (Avg. Loss 148.936, Accuracy 44.7): 100%|█████████████████████████████████| 123/123 [00:21<00:00,  5.76it/s]\n",
      "*** Saved checkpoint checkpoints/rnn.pt at epoch 1\n",
      "ACT I. Master I world that and Houd me\n",
      "    shall be and thou so now with the graighing thy deather\n",
      " \n",
      "--- EPOCH 2/50 ---\n",
      "train_batch (Avg. Loss 136.928, Accuracy 50.1): 100%|██████████████████████████████| 1115/1115 [08:59<00:00,  2.07it/s]\n",
      "test_batch (Avg. Loss 135.152, Accuracy 49.5): 100%|█████████████████████████████████| 123/123 [00:18<00:00,  6.64it/s]\n",
      "*** Saved checkpoint checkpoints/rnn.pt at epoch 2\n",
      "ACT I. Which I come of the house;\n",
      "When I that the man and cause the water of and with-\n",
      "  Horrent.\n",
      "\n",
      "M\n",
      "--- EPOCH 3/50 ---\n",
      "train_batch (Avg. Loss 129.470, Accuracy 52.6): 100%|██████████████████████████████| 1115/1115 [08:52<00:00,  2.09it/s]\n",
      "test_batch (Avg. Loss 129.648, Accuracy 51.5): 100%|█████████████████████████████████| 123/123 [00:19<00:00,  6.27it/s]\n",
      "*** Saved checkpoint checkpoints/rnn.pt at epoch 3\n",
      "ACT I.\n",
      "Sound to mine the Horward, I have be soul is come\n",
      "    is the places of a call to court in the\n",
      "--- EPOCH 4/50 ---\n",
      "train_batch (Avg. Loss 125.531, Accuracy 53.9): 100%|██████████████████████████████| 1115/1115 [08:01<00:00,  2.31it/s]\n",
      "test_batch (Avg. Loss 126.465, Accuracy 52.6): 100%|█████████████████████████████████| 123/123 [00:18<00:00,  6.80it/s]\n",
      "*** Saved checkpoint checkpoints/rnn.pt at epoch 4\n",
      "ACT I.\n",
      "A stand of Concuce\n",
      "\n",
      "  CORIOLENUS. Why, this with the diting of the world with such a bear\n",
      "   \n",
      "--- EPOCH 5/50 ---\n",
      "train_batch (Avg. Loss 123.037, Accuracy 54.7): 100%|██████████████████████████████| 1115/1115 [08:47<00:00,  2.11it/s]\n",
      "test_batch (Avg. Loss 124.028, Accuracy 53.5): 100%|█████████████████████████████████| 123/123 [00:20<00:00,  6.13it/s]\n",
      "*** Saved checkpoint checkpoints/rnn.pt at epoch 5\n",
      "ACT I.\n",
      "\n",
      "SICINIUS:\n",
      "Mercy, the Lord Master Slolendors,\n",
      "Let her be speak of his country of my condinner\n",
      "--- EPOCH 6/50 ---\n",
      "train_batch (Avg. Loss 121.261, Accuracy 55.3): 100%|██████████████████████████████| 1115/1115 [08:52<00:00,  2.09it/s]\n",
      "test_batch (Avg. Loss 122.469, Accuracy 54.0): 100%|█████████████████████████████████| 123/123 [00:19<00:00,  6.36it/s]\n",
      "*** Saved checkpoint checkpoints/rnn.pt at epoch 6\n",
      "ACT I.\n",
      "\n",
      "  ANTONY. The brother chaste that a can see the matter of her.\n",
      "  MENENIUS. I do be better th\n",
      "--- EPOCH 7/50 ---\n",
      "train_batch (Avg. Loss 119.943, Accuracy 55.7): 100%|██████████████████████████████| 1115/1115 [07:58<00:00,  2.33it/s]\n",
      "test_batch (Avg. Loss 121.360, Accuracy 54.4): 100%|█████████████████████████████████| 123/123 [00:17<00:00,  7.09it/s]\n",
      "*** Saved checkpoint checkpoints/rnn.pt at epoch 7\n",
      "ACT I.\n",
      "SCENE II. Sir Daviment Santand and SERVANT\n",
      "    Which do the treason many for him a commine.\n",
      " \n",
      "--- EPOCH 8/50 ---\n",
      "train_batch (Avg. Loss 118.793, Accuracy 56.1): 100%|██████████████████████████████| 1115/1115 [07:34<00:00,  2.46it/s]\n",
      "test_batch (Avg. Loss 120.563, Accuracy 54.6): 100%|█████████████████████████████████| 123/123 [00:17<00:00,  6.93it/s]\n",
      "*** Saved checkpoint checkpoints/rnn.pt at epoch 8\n",
      "ACT I.\n",
      "     I have been my master and all the ware.\n",
      "\n",
      "  CLEOLI. A worthy be part of my compenter.\n",
      "   \n",
      "--- EPOCH 9/50 ---\n",
      "train_batch (Avg. Loss 117.971, Accuracy 56.3): 100%|██████████████████████████████| 1115/1115 [07:35<00:00,  2.45it/s]\n",
      "test_batch (Avg. Loss 119.602, Accuracy 54.8): 100%|█████████████████████████████████| 123/123 [00:17<00:00,  7.00it/s]\n",
      "*** Saved checkpoint checkpoints/rnn.pt at epoch 9\n",
      "ACT I. Sir.\n",
      "     My lord, where is the death being men are the world?\n",
      "     Have you here a word of t\n",
      "--- EPOCH 10/50 ---\n",
      "train_batch (Avg. Loss 117.135, Accuracy 56.6): 100%|██████████████████████████████| 1115/1115 [07:44<00:00,  2.40it/s]\n",
      "test_batch (Avg. Loss 119.234, Accuracy 55.0): 100%|█████████████████████████████████| 123/123 [00:18<00:00,  6.69it/s]\n",
      "*** Saved checkpoint checkpoints/rnn.pt at epoch 10\n",
      "ACT I.\n",
      "                                                                                             \n",
      "--- EPOCH 11/50 ---\n",
      "train_batch (Avg. Loss 116.517, Accuracy 56.8): 100%|██████████████████████████████| 1115/1115 [07:48<00:00,  2.38it/s]\n",
      "test_batch (Avg. Loss 118.252, Accuracy 55.3): 100%|█████████████████████████████████| 123/123 [00:17<00:00,  7.13it/s]\n",
      "*** Saved checkpoint checkpoints/rnn.pt at epoch 11\n",
      "ACT I.\n",
      "ANTIPHOLUS OF SYRACUSE. What's the state?\n",
      "  Lord, Sir EIPh MARGERINS and MESSENGER] What shal\n",
      "--- EPOCH 12/50 ---\n",
      "train_batch (Avg. Loss 115.900, Accuracy 57.0): 100%|██████████████████████████████| 1115/1115 [07:47<00:00,  2.38it/s]\n",
      "test_batch (Avg. Loss 117.802, Accuracy 55.5): 100%|█████████████████████████████████| 123/123 [00:17<00:00,  7.08it/s]\n",
      "*** Saved checkpoint checkpoints/rnn.pt at epoch 12\n",
      "ACT I. My lord,\n",
      "    How he hath been a spirit to kill you.\n",
      "    Can the throne that he hath must the \n",
      "--- EPOCH 13/50 ---\n",
      "train_batch (Avg. Loss 115.423, Accuracy 57.2): 100%|██████████████████████████████| 1115/1115 [07:51<00:00,  2.37it/s]\n",
      "test_batch (Avg. Loss 117.665, Accuracy 55.5): 100%|█████████████████████████████████| 123/123 [00:17<00:00,  6.99it/s]\n",
      "ACT I. Have the soul\n",
      "    To will the acconce of Beatrean's thoughts.\n",
      "    The sun of his receivers th\n",
      "--- EPOCH 14/50 ---\n",
      "train_batch (Avg. Loss 114.983, Accuracy 57.3): 100%|██████████████████████████████| 1115/1115 [07:49<00:00,  2.38it/s]\n",
      "test_batch (Avg. Loss 117.272, Accuracy 55.6): 100%|█████████████████████████████████| 123/123 [00:17<00:00,  6.94it/s]\n",
      "*** Saved checkpoint checkpoints/rnn.pt at epoch 14\n",
      "ACT I.\n",
      "  SEBASTIAN. I should not be should not make him.\n",
      "  MONTANO. I will not be in the reason and \n",
      "--- EPOCH 15/50 ---\n",
      "train_batch (Avg. Loss 114.563, Accuracy 57.4): 100%|██████████████████████████████| 1115/1115 [07:50<00:00,  2.37it/s]\n",
      "test_batch (Avg. Loss 117.116, Accuracy 55.6): 100%|█████████████████████████████████| 123/123 [00:17<00:00,  7.03it/s]\n",
      "ACT I.\n",
      "  Bene. The word is my sin, and a father of the mount as not.\n",
      "     Ay, and a house, and the t\n",
      "--- EPOCH 16/50 ---\n",
      "train_batch (Avg. Loss 114.219, Accuracy 57.5): 100%|██████████████████████████████| 1115/1115 [07:54<00:00,  2.35it/s]\n",
      "test_batch (Avg. Loss 116.604, Accuracy 55.7): 100%|█████████████████████████████████| 123/123 [00:18<00:00,  6.76it/s]\n",
      "*** Saved checkpoint checkpoints/rnn.pt at epoch 16\n",
      "ACT I.\n",
      "  Bol. I thank you to the happy can be compeer to my doubt.\n",
      "                                 \n",
      "--- EPOCH 17/50 ---\n",
      "train_batch (Avg. Loss 113.884, Accuracy 57.7): 100%|██████████████████████████████| 1115/1115 [07:53<00:00,  2.35it/s]\n",
      "test_batch (Avg. Loss 116.375, Accuracy 55.8): 100%|█████████████████████████████████| 123/123 [00:18<00:00,  6.83it/s]\n",
      "*** Saved checkpoint checkpoints/rnn.pt at epoch 17\n",
      "ACT I.\n",
      "  Bene. I must be a sight.\n",
      "  Bene. Ay, this is the world; if you shall be so mender to see\n",
      "  \n",
      "--- EPOCH 18/50 ---\n",
      "train_batch (Avg. Loss 113.575, Accuracy 57.7): 100%|██████████████████████████████| 1115/1115 [07:53<00:00,  2.36it/s]\n",
      "test_batch (Avg. Loss 116.183, Accuracy 56.0): 100%|█████████████████████████████████| 123/123 [00:17<00:00,  7.05it/s]\n",
      "*** Saved checkpoint checkpoints/rnn.pt at epoch 18\n",
      "ACT I. What is the sin?\n",
      "\n",
      "                                       Enter Lord Parto.\n",
      "\n",
      "Ssing. Here is sh\n",
      "--- EPOCH 19/50 ---\n",
      "train_batch (Avg. Loss 113.324, Accuracy 57.8): 100%|██████████████████████████████| 1115/1115 [07:56<00:00,  2.34it/s]\n",
      "test_batch (Avg. Loss 115.791, Accuracy 56.0): 100%|█████████████████████████████████| 123/123 [00:17<00:00,  7.04it/s]\n",
      "*** Saved checkpoint checkpoints/rnn.pt at epoch 19\n",
      "ACT I. Who shall the peace?\n",
      "  Here. The state of a sins of the death and death\n",
      "    To be sent a cons\n",
      "--- EPOCH 20/50 ---\n",
      "train_batch (Avg. Loss 113.051, Accuracy 57.9): 100%|██████████████████████████████| 1115/1115 [07:51<00:00,  2.37it/s]\n",
      "test_batch (Avg. Loss 115.697, Accuracy 56.1): 100%|█████████████████████████████████| 123/123 [00:17<00:00,  7.13it/s]\n",
      "*** Saved checkpoint checkpoints/rnn.pt at epoch 20\n",
      "ACT I.\n",
      "\n",
      "SIR TOSTHENIOL:\n",
      "My father, I am a man,\n",
      "And the earth of his perforr age-\n",
      "\n",
      "  Marcius.\n",
      "\n",
      "MENENI\n",
      "--- EPOCH 21/50 ---\n",
      "train_batch (Avg. Loss 112.817, Accuracy 58.0): 100%|██████████████████████████████| 1115/1115 [07:50<00:00,  2.37it/s]\n",
      "test_batch (Avg. Loss 115.481, Accuracy 56.2): 100%|█████████████████████████████████| 123/123 [00:17<00:00,  7.02it/s]\n",
      "*** Saved checkpoint checkpoints/rnn.pt at epoch 21\n",
      "ACT I. The content\n",
      "\n",
      "Enter CASSIUS, and STEPHANO, and SOLDIER, and SOLDIER,\n",
      "     My children of his w\n",
      "--- EPOCH 22/50 ---\n",
      "train_batch (Avg. Loss 112.606, Accuracy 58.0): 100%|██████████████████████████████| 1115/1115 [07:46<00:00,  2.39it/s]\n",
      "test_batch (Avg. Loss 115.350, Accuracy 56.3): 100%|█████████████████████████████████| 123/123 [00:17<00:00,  7.13it/s]\n",
      "*** Saved checkpoint checkpoints/rnn.pt at epoch 22\n",
      "ACT I. And report me,\n",
      "    The wanton way.\n",
      "  Ham. Well, for the soul that be before the away here,\n",
      "  \n",
      "--- EPOCH 23/50 ---\n",
      "train_batch (Avg. Loss 112.403, Accuracy 58.1): 100%|██████████████████████████████| 1115/1115 [07:46<00:00,  2.39it/s]\n",
      "test_batch (Avg. Loss 115.289, Accuracy 56.3): 100%|█████████████████████████████████| 123/123 [00:17<00:00,  6.96it/s]\n",
      "ACT I. Where we was the party\n",
      "  Falstip and the house against the world be done.\n",
      "\n",
      "MENENIUS:\n",
      "You shal\n",
      "--- EPOCH 24/50 ---\n",
      "train_batch (Avg. Loss 112.189, Accuracy 58.2): 100%|██████████████████████████████| 1115/1115 [07:43<00:00,  2.40it/s]\n",
      "test_batch (Avg. Loss 115.471, Accuracy 56.2): 100%|█████████████████████████████████| 123/123 [00:16<00:00,  7.30it/s]\n",
      "ACT I.\n",
      "\n",
      "FIRST SERVANT and HERMIONE.\n",
      "  Bene will be the name of him.\n",
      "\n",
      "MErrind:\n",
      "The Catestian that I a\n",
      "--- EPOCH 25/50 ---\n",
      "train_batch (Avg. Loss 111.992, Accuracy 58.2): 100%|██████████████████████████████| 1115/1115 [07:43<00:00,  2.40it/s]\n",
      "test_batch (Avg. Loss 114.865, Accuracy 56.5): 100%|█████████████████████████████████| 123/123 [00:17<00:00,  7.08it/s]\n",
      "*** Saved checkpoint checkpoints/rnn.pt at epoch 25\n",
      "ACT I.\n",
      "\n",
      "SCENE II.\n",
      "The KING RICHARD HERGINETUR and ANTONY\n",
      "\n",
      "A the KING RICHARD HERCEND and down of MEN\n",
      "--- EPOCH 26/50 ---\n",
      "train_batch (Avg. Loss 111.830, Accuracy 58.3): 100%|██████████████████████████████| 1115/1115 [08:01<00:00,  2.32it/s]\n",
      "test_batch (Avg. Loss 114.751, Accuracy 56.4): 100%|█████████████████████████████████| 123/123 [00:18<00:00,  6.78it/s]\n",
      "ACT I. God with the seventering\n",
      "    That has the poor of fortune and methinks.\n",
      "  John. But I have mo\n",
      "--- EPOCH 27/50 ---\n",
      "train_batch (Avg. Loss 111.631, Accuracy 58.3): 100%|██████████████████████████████| 1115/1115 [07:59<00:00,  2.32it/s]\n",
      "test_batch (Avg. Loss 114.502, Accuracy 56.6): 100%|█████████████████████████████████| 123/123 [00:19<00:00,  6.30it/s]\n",
      "*** Saved checkpoint checkpoints/rnn.pt at epoch 27\n",
      "ACT I.\n",
      "IAGO. So be the soul of the true man\n",
      "    dead a prove hath make him of the lady of the fire\n",
      " \n",
      "--- EPOCH 28/50 ---\n",
      "train_batch (Avg. Loss 111.503, Accuracy 58.4): 100%|██████████████████████████████| 1115/1115 [08:42<00:00,  2.13it/s]\n",
      "test_batch (Avg. Loss 114.438, Accuracy 56.5): 100%|█████████████████████████████████| 123/123 [00:18<00:00,  6.70it/s]\n",
      "ACT I.\n",
      "  FIRST SORDIA. The house is a thoughts.\n",
      "  MENENIUS. He will be an out of the gods.\n",
      "  MARCUS.\n",
      "--- EPOCH 29/50 ---\n",
      "train_batch (Avg. Loss 111.321, Accuracy 58.4): 100%|██████████████████████████████| 1115/1115 [08:10<00:00,  2.27it/s]\n",
      "test_batch (Avg. Loss 114.287, Accuracy 56.5): 100%|█████████████████████████████████| 123/123 [00:18<00:00,  6.80it/s]\n",
      "ACT I.\n",
      "  BIANCA. I have it a back and money.\n",
      "  ANTONY. I perceive you not say to see him and for you\n",
      "--- EPOCH 30/50 ---\n",
      "train_batch (Avg. Loss 111.187, Accuracy 58.5): 100%|██████████████████████████████| 1115/1115 [08:11<00:00,  2.27it/s]\n",
      "test_batch (Avg. Loss 114.254, Accuracy 56.5): 100%|█████████████████████████████████| 123/123 [00:17<00:00,  6.96it/s]\n",
      "ACT I.\n",
      "  MARCIUS. Thou hast not the house and a warranting faith,\n",
      "    And to be this cannot fear my \n",
      "--- EPOCH 31/50 ---\n",
      "train_batch (Avg. Loss 111.057, Accuracy 58.5): 100%|██████████████████████████████| 1115/1115 [08:11<00:00,  2.27it/s]\n",
      "test_batch (Avg. Loss 114.103, Accuracy 56.6): 100%|█████████████████████████████████| 123/123 [00:17<00:00,  6.93it/s]\n",
      "*** Saved checkpoint checkpoints/rnn.pt at epoch 31\n",
      "ACT I.\n",
      "  Prince. I am the offenders. These is the princes of this one cannot\n",
      "    and well of our arm\n",
      "--- EPOCH 32/50 ---\n",
      "train_batch (Avg. Loss 110.919, Accuracy 58.6): 100%|██████████████████████████████| 1115/1115 [08:06<00:00,  2.29it/s]\n",
      "test_batch (Avg. Loss 114.429, Accuracy 56.6): 100%|█████████████████████████████████| 123/123 [00:17<00:00,  6.95it/s]\n",
      "ACT I. But when they may\n",
      "    be far him as challenge and store the halp and well\n",
      "    and so for his \n",
      "--- EPOCH 33/50 ---\n",
      "train_batch (Avg. Loss 110.787, Accuracy 58.6): 100%|██████████████████████████████| 1115/1115 [07:56<00:00,  2.34it/s]\n",
      "test_batch (Avg. Loss 113.958, Accuracy 56.7): 100%|█████████████████████████████████| 123/123 [00:17<00:00,  7.00it/s]\n",
      "*** Saved checkpoint checkpoints/rnn.pt at epoch 33\n",
      "ACT I.\n",
      "  BUCKINGHAM. The state is not confess'd the there.\n",
      "    Yet is more of the world.\n",
      "  BUCKINGHA\n",
      "--- EPOCH 34/50 ---\n",
      "train_batch (Avg. Loss 110.695, Accuracy 58.6): 100%|██████████████████████████████| 1115/1115 [08:10<00:00,  2.28it/s]\n",
      "test_batch (Avg. Loss 113.937, Accuracy 56.7): 100%|█████████████████████████████████| 123/123 [00:18<00:00,  6.79it/s]\n",
      "*** Saved checkpoint checkpoints/rnn.pt at epoch 34\n",
      "ACT I. I were strange at my prince than the confess of your\n",
      "    patience of the full of the thriel d\n",
      "--- EPOCH 35/50 ---\n",
      "train_batch (Avg. Loss 110.560, Accuracy 58.7): 100%|██████████████████████████████| 1115/1115 [07:55<00:00,  2.34it/s]\n",
      "test_batch (Avg. Loss 113.772, Accuracy 56.7): 100%|█████████████████████████████████| 123/123 [00:17<00:00,  6.96it/s]\n",
      "*** Saved checkpoint checkpoints/rnn.pt at epoch 35\n",
      "ACT I. Then we are be been the death,\n",
      "    And the compense of my death comes me not.\n",
      "  Mercurious to\n",
      "--- EPOCH 36/50 ---\n",
      "train_batch (Avg. Loss 110.466, Accuracy 58.7): 100%|██████████████████████████████| 1115/1115 [08:06<00:00,  2.29it/s]\n",
      "test_batch (Avg. Loss 114.087, Accuracy 56.7): 100%|█████████████████████████████████| 123/123 [00:18<00:00,  6.63it/s]\n",
      "ACT I.\n",
      "  Ham. O since the house of your present shall we mean\n",
      "    Her a report to the mother of my d\n",
      "--- EPOCH 37/50 ---\n",
      "train_batch (Avg. Loss 110.358, Accuracy 58.7): 100%|██████████████████████████████| 1115/1115 [08:13<00:00,  2.26it/s]\n",
      "test_batch (Avg. Loss 113.925, Accuracy 56.8): 100%|█████████████████████████████████| 123/123 [00:18<00:00,  6.67it/s]\n",
      "*** Saved checkpoint checkpoints/rnn.pt at epoch 37\n",
      "ACT I.\n",
      "  Hor. The speed is the heart in the word, and he is\n",
      "    the King, and the which I will not s\n",
      "--- EPOCH 38/50 ---\n",
      "train_batch (Avg. Loss 110.239, Accuracy 58.8): 100%|██████████████████████████████| 1115/1115 [08:11<00:00,  2.27it/s]\n",
      "test_batch (Avg. Loss 114.023, Accuracy 56.7): 100%|█████████████████████████████████| 123/123 [00:18<00:00,  6.64it/s]\n",
      "ACT I.\n",
      "\n",
      "CLEOPATRA. Here shall see the matter shall be a part.\n",
      "\n",
      "MENENIUS:\n",
      "What is the father of the t\n",
      "--- EPOCH 39/50 ---\n",
      "train_batch (Avg. Loss 110.112, Accuracy 58.8): 100%|██████████████████████████████| 1115/1115 [08:13<00:00,  2.26it/s]\n",
      "test_batch (Avg. Loss 113.696, Accuracy 56.8): 100%|█████████████████████████████████| 123/123 [00:19<00:00,  6.32it/s]\n",
      "ACT I. You have come so that did confirmed the thoughts\n",
      "    hath love the world and your life, and h\n",
      "--- EPOCH 40/50 ---\n",
      "train_batch (Avg. Loss 110.064, Accuracy 58.8): 100%|██████████████████████████████| 1115/1115 [08:11<00:00,  2.27it/s]\n",
      "test_batch (Avg. Loss 113.745, Accuracy 56.8): 100%|█████████████████████████████████| 123/123 [00:18<00:00,  6.52it/s]\n",
      "ACT I.\n",
      "    What can you know the voice of the father?\n",
      "    What shall thou canst have that the fair c\n",
      "--- EPOCH 41/50 ---\n",
      "train_batch (Avg. Loss 109.912, Accuracy 58.9): 100%|██████████████████████████████| 1115/1115 [08:09<00:00,  2.28it/s]\n",
      "test_batch (Avg. Loss 113.469, Accuracy 56.9): 100%|█████████████████████████████████| 123/123 [00:18<00:00,  6.70it/s]\n",
      "*** Saved checkpoint checkpoints/rnn.pt at epoch 41\n",
      "ACT I.\n",
      "ANTIPHOLUS OF EPHESUS. Why shall you stay the water of the master?\n",
      "\n",
      "BRUTUS:\n",
      "My lord, he is a \n",
      "--- EPOCH 42/50 ---\n",
      "train_batch (Avg. Loss 109.869, Accuracy 58.9): 100%|██████████████████████████████| 1115/1115 [08:13<00:00,  2.26it/s]\n",
      "test_batch (Avg. Loss 114.174, Accuracy 56.6): 100%|█████████████████████████████████| 123/123 [00:19<00:00,  6.41it/s]\n",
      "ACT I.\n",
      "\n",
      "BRUTUS. He is the street of a store.\n",
      "  MONTANO. I will have been a company.\n",
      "  BASTARD. I wil\n",
      "--- EPOCH 43/50 ---\n",
      "train_batch (Avg. Loss 109.766, Accuracy 58.9): 100%|██████████████████████████████| 1115/1115 [08:12<00:00,  2.26it/s]\n",
      "test_batch (Avg. Loss 113.561, Accuracy 56.9): 100%|█████████████████████████████████| 123/123 [00:18<00:00,  6.59it/s]\n",
      "*** Saved checkpoint checkpoints/rnn.pt at epoch 43\n",
      "ACT I.\n",
      "  HELENA. What say you?\n",
      "  LUCIUS. The devil of sure so might a part of mine\n",
      "    That the grea\n",
      "--- EPOCH 44/50 ---\n",
      "train_batch (Avg. Loss 109.690, Accuracy 58.9): 100%|██████████████████████████████| 1115/1115 [08:32<00:00,  2.18it/s]\n",
      "test_batch (Avg. Loss 113.385, Accuracy 56.9): 100%|█████████████████████████████████| 123/123 [00:19<00:00,  6.26it/s]\n",
      "*** Saved checkpoint checkpoints/rnn.pt at epoch 44\n",
      "ACT I.\n",
      "  Bora. The cheek and man that are the wrongs.\n",
      "  Bene. The King is the world, do the lord are\n",
      "--- EPOCH 45/50 ---\n",
      "train_batch (Avg. Loss 109.594, Accuracy 59.0): 100%|██████████████████████████████| 1115/1115 [08:30<00:00,  2.18it/s]\n",
      "test_batch (Avg. Loss 113.358, Accuracy 56.9): 100%|█████████████████████████████████| 123/123 [00:18<00:00,  6.57it/s]\n",
      "ACT I.\n",
      "  Griaful Servingman.\n",
      "  CLARENCE. What never that you that seek not him he should the\n",
      "    com\n",
      "--- EPOCH 46/50 ---\n",
      "train_batch (Avg. Loss 109.548, Accuracy 59.0): 100%|██████████████████████████████| 1115/1115 [07:58<00:00,  2.33it/s]\n",
      "test_batch (Avg. Loss 113.150, Accuracy 57.0): 100%|█████████████████████████████████| 123/123 [00:18<00:00,  6.78it/s]\n",
      "*** Saved checkpoint checkpoints/rnn.pt at epoch 46\n",
      "ACT I.\n",
      "I may be revenge and fair discretion\n",
      "\n",
      "  Which the morning of the arms a fortune\n",
      "  England tha\n",
      "--- EPOCH 47/50 ---\n",
      "train_batch (Avg. Loss 109.430, Accuracy 59.0): 100%|██████████████████████████████| 1115/1115 [07:57<00:00,  2.33it/s]\n",
      "test_batch (Avg. Loss 112.974, Accuracy 57.0): 100%|█████████████████████████████████| 123/123 [00:18<00:00,  6.69it/s]\n",
      "ACT I. I shall go was confident]\n",
      "  MARCUS. I know you and sit of my love, and my name with the man\n",
      " \n",
      "--- EPOCH 48/50 ---\n",
      "train_batch (Avg. Loss 109.386, Accuracy 59.1): 100%|██████████████████████████████| 1115/1115 [07:59<00:00,  2.32it/s]\n",
      "test_batch (Avg. Loss 113.139, Accuracy 56.9): 100%|█████████████████████████████████| 123/123 [00:18<00:00,  6.74it/s]\n",
      "ACT I.\n",
      "\n",
      "Sacer the Earl of Caesar.\n",
      "\n",
      "MENENIUS.\n",
      "\n",
      "ORGER:\n",
      "Here, more good Marcano, that he sees your man,\n",
      "--- EPOCH 49/50 ---\n",
      "train_batch (Avg. Loss 109.313, Accuracy 59.0): 100%|██████████████████████████████| 1115/1115 [08:05<00:00,  2.30it/s]\n",
      "test_batch (Avg. Loss 113.075, Accuracy 56.9): 100%|█████████████████████████████████| 123/123 [00:18<00:00,  6.73it/s]\n",
      "ACT I.\n",
      "\n",
      "ALRIO OF FROTH:\n",
      "The great heart of him, and he will be so;\n",
      "The King of Marcius, when I were \n",
      "--- EPOCH 50/50 ---\n",
      "train_batch (Avg. Loss 109.228, Accuracy 59.1): 100%|██████████████████████████████| 1115/1115 [08:45<00:00,  2.12it/s]\n",
      "test_batch (Avg. Loss 112.974, Accuracy 57.0): 100%|█████████████████████████████████| 123/123 [00:20<00:00,  6.08it/s]\n",
      "ACT I.\n",
      "ANTIPHOLUS OF EPHESUS. I do not come and fool to this country.\n",
      "  MARCUS. Prithee be repair'd \n"
     ]
    },
    {
     "data": {
      "image/png": "[encoded data removed]",
      "text/plain": [
       "<Figure size 1600x1000 with 4 Axes>"
      ]
     },
     "metadata": {},
     "output_type": "display_data"
    }
   ],
   "source": [
    "from cs236781.plot import plot_fit\n",
    "\n",
    "def post_epoch_fn(epoch, train_res, test_res, verbose):\n",
    "    # Update learning rate\n",
    "    scheduler.step(test_res.accuracy)\n",
    "    # Sample from model to show progress\n",
    "    if verbose:\n",
    "        start_seq = \"ACT I.\"\n",
    "        generated_sequence = charnn.generate_from_model(\n",
    "            model, start_seq, 100, (char_to_idx,idx_to_char), T=0.5\n",
    "        )\n",
    "        print(generated_sequence)\n",
    "\n",
    "# Train, unless final checkpoint is found\n",
    "checkpoint_file_final = f'{checkpoint_file}_final.pt'\n",
    "if os.path.isfile(checkpoint_file_final):\n",
    "    print(f'*** Loading final checkpoint file {checkpoint_file_final} instead of training')\n",
    "    saved_state = torch.load(checkpoint_file_final, map_location=device)\n",
    "    model.load_state_dict(saved_state['model_state'])\n",
    "else:\n",
    "    try:\n",
    "        # Print pre-training sampling\n",
    "        print(charnn.generate_from_model(model, \"ACT I.\", 100, (char_to_idx,idx_to_char), T=0.5))\n",
    "\n",
    "        fit_res = trainer.fit(dl_train, dl_test, num_epochs, max_batches=None,\n",
    "                              post_epoch_fn=post_epoch_fn, early_stopping=early_stopping,\n",
    "                              checkpoints=checkpoint_file, print_every=1)\n",
    "        \n",
    "        fig, axes = plot_fit(fit_res)\n",
    "    except KeyboardInterrupt as e:\n",
    "        print('\\n *** Training interrupted by user')"
   ]
  },
  {
   "cell_type": "markdown",
   "metadata": {},
   "source": [
    "### Generating a work of art\n",
    "<a id=part1_8></a>"
   ]
  },
  {
   "cell_type": "markdown",
   "metadata": {},
   "source": [
    "Armed with our fully trained model, let's generate the next Hamlet! You should experiment with modifying the sampling temperature and see what happens.\n",
    "\n",
    "The text you generate should “look” like a Shakespeare play:\n",
    "old-style English words and sentence structure, directions for the actors\n",
    "(like “Exit/Enter”), sections (Act I/Scene III) etc.\n",
    "There will be no coherent plot of course, but it should at least seem like\n",
    "a Shakespearean play when not looking too closely.\n",
    "If this is not what you see, go back, debug and/or and re-train.\n",
    "\n",
    "**TODO**: Specify the generation parameters in the `part1_generation_params()` function within the `hw3/answers.py` module."
   ]
  },
  {
   "cell_type": "code",
   "execution_count": 32,
   "metadata": {},
   "outputs": [
    {
     "name": "stdout",
     "output_type": "stream",
     "text": [
      "TRAM. What would you have?\n",
      "  HELENA. Something; and scarce so much; nothing, indeed.\n",
      "    I would not tell you what I would, my lord.\n",
      "    Faith, yes:\n",
      "    Strangers and foes do sunder and not kiss.\n",
      "  BERTRAM. I pray you, stay not, but in haste to horse.\n",
      "    The day of my prove and many daughter,\n",
      "    The foolish thoughts and the common of him,\n",
      "    And the country of the world of the world,\n",
      "    And so much that was the state of the world,\n",
      "    That I do not be a soul and the death.\n",
      "    The great state is a strange and this to me,\n",
      "    The princely son and his letters;\n",
      "    And the country hath a state of thee,\n",
      "    And the will of the world of the heart,\n",
      "    That come to the princes of the service.\n",
      "    The state of the death of my poor hands,\n",
      "    Who should have seen to the and with the record\n",
      "    And he may have so from the body of him,\n",
      "    Which will shall be so much and many of the world.\n",
      "    The death of my fortune that I should be so,\n",
      "    And we shall be the state of his prince,\n",
      "    The soul of my life and the proceeding of the business.\n",
      "    The world is not a fool of the proceed,\n",
      "    And with his father and the world of my sigh;\n",
      "    And the revenge of the beard of the death,\n",
      "    That is a matter of my life to me.\n",
      "    I would a part of the sense of the day,\n",
      "    That is the traitor of the man of the King\n",
      "    That we will see the country of his life,\n",
      "    That they shall be so much as the servant.\n",
      "    The conscience with the report and death and the heart\n",
      "    That she will have so much and the more soul\n",
      "    That the country of the death and the crown.\n",
      "    The world and father be the more consul\n",
      "    That shall not shall have a son of the father.\n",
      "    The conscience have so much as the arms.\n",
      "    He is not to the day of the consul.\n",
      "    The world of the world of the common death,\n",
      "    The death of the state of the princes,\n",
      "    That we shall be a death to see the world,\n",
      "    That the country of the bear of the fool\n",
      "    To see thee like a man of the fire.\n",
      "    The company of the world of the courtesy,\n",
      "    And the content of the company of him,\n",
      "    That have seen the death of care of the way.\n",
      "    The time and my life and the death and his\n",
      "    Where the poor soldiers and the servants.\n",
      "    The counterfeit of his fair counterfail of his\n",
      "    To have the sea of the princely words,\n",
      "    And the father and the birth of me that fears\n",
      "    That was a prove and the prove of the world.\n",
      "    What shall the most such a strange and company?\n",
      "    The note is my son of the world, and we will not\n",
      "    That shall be so many that the father should be\n",
      "    That hath here to the man of his point and me.\n",
      "    What say you that may be the courtesy of the servant,\n",
      "    The prove of his prince of the sea,\n",
      "    Which we will as so in the company of the world,\n",
      "    And this we may be a man of the prove,\n",
      "    And the sin of the fire of the true body,\n",
      "    And the gods of the man of the bear.\n",
      "    This will be the short of his hands, and not the place,\n",
      "    That the father is the heaven of the fortune,\n",
      "    That the fortune of the war of his son,\n",
      "    That the courtesy soldiers and the soul of the world,\n",
      "    The content of the state of the earth,\n",
      "    Who is the reason of the state of the sense,\n",
      "    Who will the content of the world of the world\n",
      "    That the thoughts and made and prove and sense,\n",
      "    To see the service of the prove day,\n",
      "    The father's prove and the state of the soul,\n",
      "    And the body of his part of the bear\n",
      "    That was so like a state of the world.\n",
      "    The servants and the common son to my sin,\n",
      "    That shall be a save and heaven with the world.\n",
      "    The conscience of the hand with his hearts,\n",
      "    That have a prove of the death of his brother,\n",
      "    And have the soul of my fortune of the world,\n",
      "    That will not prove the world to the fire.\n",
      "    And the thing that hath dead a brother to me,\n",
      "    That the world of his prince of the weak,\n",
      "    The soldiers of his death of the princes\n",
      "    That dead that may have the strange treason.\n",
      "    And the more than the service and soul of my lord,\n",
      "    The strange company of the love of the world\n",
      "    With the first present of the great person,\n",
      "    That he hath a part of the state of the world,\n",
      "    The sin of the constant of the spirit of the world.\n",
      "    He is of the world.\n",
      "  ANTONY. The poor lords, and I am a man.\n",
      "  ANTONY. The world of the common and death and my state\n",
      "    That was a part of the world to the son,\n",
      "    That will not be the bear and bloody and heaven,\n",
      "    The true prove of the way of his tripper,\n",
      "    And see the will of the state of the beauty.\n",
      "    The conscience of the father should be done,\n",
      "    The more of the father of the world,\n",
      "    Which the conscience of the courtesy of me,\n",
      "    The prince of the true part of the world\n",
      "    And let him come to the father of the bear.\n",
      "    The word of the world of my life of some\n",
      "    That do you not for the office of his words.\n",
      "    What shall the death that do you see the dear?\n",
      "    The thoughts to the born to the country of him,\n",
      "    And that the country of my daughter,\n",
      "    That the person of a country and friends,\n",
      "    That shall be the death of the way of the father,\n",
      "    That we will be the strange and the world.\n",
      "    The shame of your heart of the world of the beasts\n",
      "    That may be more man and the company of my bark,\n",
      "    That let me be the death of the beauty.\n",
      "    What shall I come and confine and fire?\n",
      "    And the world of the service of the sigh,\n",
      "    And that is the death of his country and the present,\n",
      "    The man of the bear of the man of my servants,\n",
      "    And the prove of the heart of the state,\n",
      "    And when the time to the common of the fire\n",
      "    To me to the content of the fire.\n",
      "    What is the father of the man and with thee?\n",
      "    The country of the father of a sea,\n",
      "    And shall be the man and my father's sun,\n",
      "    The more and the service of the fire\n",
      "    That was done to the sin of my brother.\n",
      "    This is the father of his present country,\n",
      "    And see the prove and dispose of the hand,\n",
      "    That for the servant of the bear of him,\n",
      "    Which I shall be here and made the man\n",
      "    That is the way of the body of the more.\n",
      "    The that is a man to the father of him,\n",
      "    Which was a prove and the death of the world,\n",
      "    That we shall prove the prove of the sun.\n",
      "    The son of the bear of the reverence of the world.\n",
      "    The strange hearts love the storm of his soul.\n",
      "    The stand of the country of the bear\n",
      "    That the head of the way and heaven of the world,\n",
      "    And this is not the prove of the means,\n",
      "    And the world is a more of the strange wife,\n",
      "    That did lay the common of the seeming heart\n",
      "    That the cause of my father and my heart,\n",
      "    And the friends of the will of the world.\n",
      "    The part of the heart of the care of the more\n",
      "    That was my first to the father that is the prince.\n",
      "    The world was the honour of the heavens,\n",
      "    And the strength of the country of the world,\n",
      "    And the servant of the content of him.\n",
      "    What is the fire of my heart?\n",
      "    The father will be so for the battle\n",
      "    That the world of the sun of this revenge\n",
      "    That should be here and be the man of the world.\n",
      "    What shall the weak of his part of the father?\n",
      "    The prove and heaven with the man in a service.\n",
      "    What shall the crown of the world of the world?\n",
      "    The shame of the company of the best\n",
      "    That hath been the content of the prove\n",
      "    That should have a truth of the breast of the state.\n",
      "    What shall the prove that was the tripper of the son?\n",
      "    What is the fortune of the good and death?\n",
      "    The world and prove and best that the country and the state\n",
      "    That are the slave of the man of the state,\n",
      "    That which they shall be the measure of him.\n",
      "    The more than the way of the country,\n",
      "    Which I shall be that that the haste of the world,\n",
      "    The world of the father of the single.\n",
      "    What will the conscience of his heart of the world\n",
      "    That they are a man of the princely sing.\n",
      "    The state and father and the company of his prince,\n",
      "    That the house of the traitor of the sun,\n",
      "    Which the offender of the state of my fortune\n",
      "    Than the world to the content of the world,\n",
      "    And with the will and some country of the bear\n",
      "    That the state of the trouble of my life,\n",
      "    That the sun of the hand of the prove of the life,\n",
      "    To the world of the world with his princes.\n",
      "    What are the thing of the world the man in the such a strength\n",
      "    That the body of some common son with the country,\n",
      "    That we have done the state of a first traitor,\n",
      "    That the world of the world of the present\n",
      "    So the prove of the report of the head,\n",
      "    That the common of the world and with the hand,\n",
      "    That the every arms of the country of thee,\n",
      "    And the death and the world of the man,\n",
      "    And he do come to his such a confine that seems\n",
      "    That the country of the world of the counterfolc.\n",
      "    But the love and the man of the scorn\n",
      "    That I will be so for the man of the purpose,\n",
      "    The prove and the conscience of the servants.\n",
      "    The death is my son of the wife of my proceed.\n",
      "    What is the world of the state of my place?\n",
      "    The state of the world of the hard will be the words\n",
      "    That the peace of the company of my learn,\n",
      "    And the fire of the world to me that bear\n",
      "    That the country of the conscience of my care\n",
      "    That was the mistress of the world and his storm,\n",
      "    That the country be the fortune of the world,\n",
      "    And all the country and a bloody same\n",
      "    That we do not be so much as but the company\n",
      "    That the sun of my tongue shall be death.\n",
      "    Your seasons are our company of the world,\n",
      "    That we have been the way, and the counterforc to him,\n",
      "    And in the man and the strange brothers and his\n",
      "    That was a sea and the country and charge\n",
      "    That was a sight of a particular to the passion;\n",
      "    The world of the company of the head,\n",
      "    And the other house of his father should stay,\n",
      "    Who hath a servant of his princes,\n",
      "    That I think the crown of the war of the house\n",
      "    That the courtesy of the tongue of my father,\n",
      "    The man of the conscience of the worl\n"
     ]
    }
   ],
   "source": [
    "from hw3.answers import part1_generation_params\n",
    "\n",
    "start_seq, temperature = part1_generation_params()\n",
    "generated_sequence = charnn.generate_from_model(\n",
    "    model, start_seq, 10000, (char_to_idx,idx_to_char), T=temperature\n",
    ")\n",
    "\n",
    "print(generated_sequence)"
   ]
  },
  {
   "cell_type": "markdown",
   "metadata": {},
   "source": [
    "## Questions\n",
    "<a id=part1_9></a>"
   ]
  },
  {
   "cell_type": "markdown",
   "metadata": {},
   "source": [
    "**TODO** Answer the following questions. Write your answers in the appropriate variables in the module `hw3/answers.py`."
   ]
  },
  {
   "cell_type": "code",
   "execution_count": 22,
   "metadata": {},
   "outputs": [],
   "source": [
    "from cs236781.answers import display_answer\n",
    "import hw3.answers"
   ]
  },
  {
   "cell_type": "markdown",
   "metadata": {},
   "source": [
    "### Question 1\n",
    "Why do we split the corpus into sequences instead of training on the whole text?"
   ]
  },
  {
   "cell_type": "code",
   "execution_count": 23,
   "metadata": {},
   "outputs": [
    {
     "data": {
      "text/markdown": [
       "\n",
       "**Your answer:**\n",
       "\n",
       "    We do the split for two reasons.\n",
       "    First of all, if trained on the entire corpus at once, the model will most certainly overfit. Since this is a single data point.\n",
       "    Moreover, since all the model trained for was memorizing a huge corpus, it will probably have some serious generalization issues.\n",
       "    By splitting the corpus to many smaller sequences, we get much more variety while we train the model.\n"
      ],
      "text/plain": [
       "<IPython.core.display.Markdown object>"
      ]
     },
     "metadata": {},
     "output_type": "display_data"
    }
   ],
   "source": [
    "display_answer(hw3.answers.part1_q1)"
   ]
  },
  {
   "cell_type": "markdown",
   "metadata": {},
   "source": [
    "### Question 2\n",
    "How is it possible that the generated text clearly shows memory longer than the sequence length?"
   ]
  },
  {
   "cell_type": "code",
   "execution_count": 24,
   "metadata": {},
   "outputs": [
    {
     "data": {
      "text/markdown": [
       "\n",
       "**Your answer:**\n",
       "\n",
       "    The hidden state inside the model doesn't depend on the input sequence length. Therefore when generating text, the invoked text can be of different length than the\n",
       "    input text.\n"
      ],
      "text/plain": [
       "<IPython.core.display.Markdown object>"
      ]
     },
     "metadata": {},
     "output_type": "display_data"
    }
   ],
   "source": [
    "display_answer(hw3.answers.part1_q2)"
   ]
  },
  {
   "cell_type": "markdown",
   "metadata": {},
   "source": [
    "### Question 3\n",
    "Why are we not shuffling the order of batches when training?"
   ]
  },
  {
   "cell_type": "code",
   "execution_count": 25,
   "metadata": {},
   "outputs": [
    {
     "data": {
      "text/markdown": [
       "\n",
       "**Your answer:**\n",
       "\n",
       "    while training the network we pass on the hidden state between batches. This state serves as \"context\" from the previous samples in the batch. This forces us to send\n",
       "    batches that contain sentences from the same context, hoping that text that is locally close is of the same context generally.\n",
       "    We do this to train the model for using the hidden state as previous context and not some random value.\n"
      ],
      "text/plain": [
       "<IPython.core.display.Markdown object>"
      ]
     },
     "metadata": {},
     "output_type": "display_data"
    }
   ],
   "source": [
    "display_answer(hw3.answers.part1_q3)"
   ]
  },
  {
   "cell_type": "markdown",
   "metadata": {},
   "source": [
    "### Question 4\n",
    "1. Why do we lower the temperature for sampling (compared to the default of $1.0$)?\n",
    "2. What happens when the temperature is very high and why?\n",
    "3. What happens when the temperature is very low and why?"
   ]
  },
  {
   "cell_type": "code",
   "execution_count": 26,
   "metadata": {},
   "outputs": [
    {
     "data": {
      "text/markdown": [
       "\n",
       "**Your answer:**\n",
       "1. The temperature controls how uniform or \"spiky\" the diffusion of the distribution is. The hotter the more uniform, the colder the more \"spiky\".Since we aim to use the model to pick the most likely character to come next, we would want the \"spiky\" distribution, so we use lower temperature which allows\n",
       "shifting the probability of choosing the right character to be higher and lower other probabilities.\n",
       "    \n",
       "2. When the temperature is very high, the distribution becomes uniform, since from the temperature softmax formula we divide all exponents by T. Exponents of numbers close to zero are 1, making all exponents pretty much the same. This is what results in uniform behavior.\n",
       "    \n",
       "3. When dividing the exponent inputs by low T, we are making them larger. This, together with the fact they are inputs of exponents, allows us to exaggerate minor differences even more. Resulting in a more \"spiky\" distribution which allows us to make \"stronger\" / \"more confident\" choices with the outputted probabilities.\n",
       "    \n",
       "\n"
      ],
      "text/plain": [
       "<IPython.core.display.Markdown object>"
      ]
     },
     "metadata": {},
     "output_type": "display_data"
    }
   ],
   "source": [
    "display_answer(hw3.answers.part1_q4)"
   ]
  },
  {
   "cell_type": "code",
   "execution_count": null,
   "metadata": {},
   "outputs": [],
   "source": []
  }
 ],
 "metadata": {
  "kernelspec": {
   "display_name": "Python 3 (ipykernel)",
   "language": "python",
   "name": "python3"
  },
  "language_info": {
   "codemirror_mode": {
    "name": "ipython",
    "version": 3
   },
   "file_extension": ".py",
   "mimetype": "text/x-python",
   "name": "python",
   "nbconvert_exporter": "python",
   "pygments_lexer": "ipython3",
   "version": "3.8.12"
  }
 },
 "nbformat": 4,
 "nbformat_minor": 4
}

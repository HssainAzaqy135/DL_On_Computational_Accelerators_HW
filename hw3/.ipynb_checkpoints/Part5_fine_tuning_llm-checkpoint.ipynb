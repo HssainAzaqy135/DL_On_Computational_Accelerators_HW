{
 "cells": [
  {
   "cell_type": "code",
   "execution_count": 1,
   "id": "0aa38025-1a01-4353-abaf-5a69c0c47c75",
   "metadata": {},
   "outputs": [],
   "source": [
    "import numpy as np\n",
    "import pandas as pd\n",
    "import torch\n",
    "import unittest\n",
    "import os\n",
    "import sys\n",
    "import pathlib\n",
    "import urllib\n",
    "import shutil\n",
    "import re\n",
    "\n",
    "import numpy as np\n",
    "import torch\n",
    "import matplotlib.pyplot as plt\n",
    "\n",
    "import pickle\n",
    "\n",
    "\n",
    "%load_ext autoreload\n",
    "%autoreload 2"
   ]
  },
  {
   "cell_type": "code",
   "execution_count": 2,
   "id": "11cce924-9bd4-45f2-a0df-73394bacabb1",
   "metadata": {},
   "outputs": [],
   "source": [
    "from torch.utils.data import DataLoader, Dataset\n",
    "\n",
    "import numpy as np\n",
    "from datasets import DatasetDict\n",
    "from datasets import load_dataset, concatenate_datasets\n",
    "\n",
    "from hw3 import training\n",
    "\n",
    "\n",
    "from cs236781.plot import plot_fit\n",
    "from cs236781.train_results import FitResult"
   ]
  },
  {
   "cell_type": "markdown",
   "id": "626375cb-dd6d-4b0e-9d42-8c8bb234e9e1",
   "metadata": {},
   "source": [
    "$$\n",
    "\\newcommand{\\mat}[1]{\\boldsymbol {#1}}\n",
    "\\newcommand{\\mattr}[1]{\\boldsymbol {#1}^\\top}\n",
    "\\newcommand{\\matinv}[1]{\\boldsymbol {#1}^{-1}}\n",
    "\\newcommand{\\vec}[1]{\\boldsymbol {#1}}\n",
    "\\newcommand{\\vectr}[1]{\\boldsymbol {#1}^\\top}\n",
    "\\newcommand{\\rvar}[1]{\\mathrm {#1}}\n",
    "\\newcommand{\\rvec}[1]{\\boldsymbol{\\mathrm{#1}}}\n",
    "\\newcommand{\\diag}{\\mathop{\\mathrm {diag}}}\n",
    "\\newcommand{\\set}[1]{\\mathbb {#1}}\n",
    "\\newcommand{\\norm}[1]{\\left\\lVert#1\\right\\rVert}\n",
    "\\newcommand{\\pderiv}[2]{\\frac{\\partial #1}{\\partial #2}}\n",
    "\\newcommand{\\bb}[1]{\\boldsymbol{#1}}\n",
    "$$\n",
    "# Part 4: Fine-Tuning a pretrained language model\n",
    "<a id=part3></a>"
   ]
  },
  {
   "cell_type": "markdown",
   "id": "ab08167a-6cac-4d03-806a-e60974e81f75",
   "metadata": {},
   "source": [
    "In this part , we will deal with the fine-tuning of BERT for sentiment analysis on the IMDB movie reivews dataset from the previous section.   \n",
    "BERT is a large language model developed by Google researchers in 2019 that offers a good balance between popularity and model size, which can be fine-tuned using a simple GPU.  \n",
    "\n",
    "If you aren't yet familiar, you can check it out here:  \n",
    "https://arxiv.org/pdf/1810.04805.pdf.\n",
    "(Read Section 3 for details on the model architecture and fine-tuning on downstream tasks).\n",
    "\n",
    "In particular, we will use the distilled (smaller) version of BERT, called Distil-BERT.\n",
    "Distil-BERT is widely used in production since it has 40% fewer parameters than BERT, while running 60% faster and retaining 95% of the performance in many benchmarks.\n",
    "It is recommended to glance through the Distil-BERT paper to get a feel for the model architecture and how it differs from BERT: \n",
    "https://arxiv.org/pdf/1910.01108.pdf\n",
    "\n",
    "We will download a pre-trained `Distil-BERT` from `Hugging Face`, so there is no need to train it from scratch. \n",
    "\n",
    "One of the key strengths of Hugging Face is its extensive collection of pre-trained models. These models are trained on large-scale datasets and exhibit impressive performance on various NLP tasks, such as text classification, named entity recognition, sentiment analysis, machine translation, and question answering, among others. The pre-trained models provided by Hugging Face can be easily fine-tuned for specific downstream tasks, saving significant time and computational resources.  \n"
   ]
  },
  {
   "cell_type": "markdown",
   "id": "3a61922e-8ee9-40bd-8abc-7b98d5515f0b",
   "metadata": {},
   "source": [
    "## Loading the Dataset"
   ]
  },
  {
   "cell_type": "markdown",
   "id": "326fe1ca-c764-4186-bfee-7a80e8caa0a8",
   "metadata": {},
   "source": [
    "We will now load and prepare the IMDB dataset as we did in the previous part.  \n",
    "Here we will load the full training and test set.\n"
   ]
  },
  {
   "cell_type": "code",
   "execution_count": 3,
   "id": "e81cd1ad-5ab0-418a-a339-4e7f7b95666f",
   "metadata": {
    "scrolled": true
   },
   "outputs": [],
   "source": [
    "dataset = load_dataset('imdb', split=['train', 'test[12260:12740]'])"
   ]
  },
  {
   "cell_type": "code",
   "execution_count": 4,
   "id": "146165ca-7636-46fe-bd16-1e964d6c41b9",
   "metadata": {
    "scrolled": true
   },
   "outputs": [
    {
     "name": "stdout",
     "output_type": "stream",
     "text": [
      "[Dataset({\n",
      "    features: ['text', 'label'],\n",
      "    num_rows: 25000\n",
      "}), Dataset({\n",
      "    features: ['text', 'label'],\n",
      "    num_rows: 480\n",
      "})]\n"
     ]
    }
   ],
   "source": [
    "print(dataset)"
   ]
  },
  {
   "cell_type": "code",
   "execution_count": 5,
   "id": "e3dead5a-4b2e-400f-8551-c7fd44179627",
   "metadata": {},
   "outputs": [],
   "source": [
    "#wrap it in a DatasetDict to enable methods such as map and format\n",
    "dataset = DatasetDict({'train': dataset[0], 'test': dataset[1]})"
   ]
  },
  {
   "cell_type": "code",
   "execution_count": 6,
   "id": "f07b25d3-0912-4586-b60b-6dc66e6746bc",
   "metadata": {},
   "outputs": [
    {
     "data": {
      "text/plain": [
       "DatasetDict({\n",
       "    train: Dataset({\n",
       "        features: ['text', 'label'],\n",
       "        num_rows: 25000\n",
       "    })\n",
       "    test: Dataset({\n",
       "        features: ['text', 'label'],\n",
       "        num_rows: 480\n",
       "    })\n",
       "})"
      ]
     },
     "execution_count": 6,
     "metadata": {},
     "output_type": "execute_result"
    }
   ],
   "source": [
    "dataset"
   ]
  },
  {
   "cell_type": "markdown",
   "id": "f6b6ef0b-70e3-4ec5-83fb-b8b779237ef6",
   "metadata": {},
   "source": [
    "We can now access the datasets in the Dict as we would a dictionary.\n",
    "Let's print a few training samples"
   ]
  },
  {
   "cell_type": "code",
   "execution_count": 7,
   "id": "7dccf69f-4f53-4f96-a882-c6ca6a5e0b3c",
   "metadata": {
    "scrolled": true
   },
   "outputs": [
    {
     "name": "stdout",
     "output_type": "stream",
     "text": [
      "TRAINING SAMPLE 0:\n",
      "I rented I AM CURIOUS-YELLOW from my video store because of all the controversy that surrounded it when it was first released in 1967. I also heard that at first it was seized by U.S. customs if it ever tried to enter this country, therefore being a fan of films considered \"controversial\" I really had to see this for myself.<br /><br />The plot is centered around a young Swedish drama student named Lena who wants to learn everything she can about life. In particular she wants to focus her attentions to making some sort of documentary on what the average Swede thought about certain political issues such as the Vietnam War and race issues in the United States. In between asking politicians and ordinary denizens of Stockholm about their opinions on politics, she has sex with her drama teacher, classmates, and married men.<br /><br />What kills me about I AM CURIOUS-YELLOW is that 40 years ago, this was considered pornographic. Really, the sex and nudity scenes are few and far between, even then it's not shot like some cheaply made porno. While my countrymen mind find it shocking, in reality sex and nudity are a major staple in Swedish cinema. Even Ingmar Bergman, arguably their answer to good old boy John Ford, had sex scenes in his films.<br /><br />I do commend the filmmakers for the fact that any sex shown in the film is shown for artistic purposes rather than just to shock people and make money to be shown in pornographic theaters in America. I AM CURIOUS-YELLOW is a good film for anyone wanting to study the meat and potatoes (no pun intended) of Swedish cinema. But really, this film doesn't have much of a plot.\n",
      "Label 0: 0\n",
      "\n",
      "\n",
      "TRAINING SAMPLE 1:\n",
      "\"I Am Curious: Yellow\" is a risible and pretentious steaming pile. It doesn't matter what one's political views are because this film can hardly be taken seriously on any level. As for the claim that frontal male nudity is an automatic NC-17, that isn't true. I've seen R-rated films with male nudity. Granted, they only offer some fleeting views, but where are the R-rated films with gaping vulvas and flapping labia? Nowhere, because they don't exist. The same goes for those crappy cable shows: schlongs swinging in the breeze but not a clitoris in sight. And those pretentious indie movies like The Brown Bunny, in which we're treated to the site of Vincent Gallo's throbbing johnson, but not a trace of pink visible on Chloe Sevigny. Before crying (or implying) \"double-standard\" in matters of nudity, the mentally obtuse should take into account one unavoidably obvious anatomical difference between men and women: there are no genitals on display when actresses appears nude, and the same cannot be said for a man. In fact, you generally won't see female genitals in an American film in anything short of porn or explicit erotica. This alleged double-standard is less a double standard than an admittedly depressing ability to come to terms culturally with the insides of women's bodies.\n",
      "Label 1: 0\n",
      "\n",
      "\n",
      "TRAINING SAMPLE 2:\n",
      "If only to avoid making this type of film in the future. This film is interesting as an experiment but tells no cogent story.<br /><br />One might feel virtuous for sitting thru it because it touches on so many IMPORTANT issues but it does so without any discernable motive. The viewer comes away with no new perspectives (unless one comes up with one while one's mind wanders, as it will invariably do during this pointless film).<br /><br />One might better spend one's time staring out a window at a tree growing.<br /><br />\n",
      "Label 2: 0\n",
      "\n",
      "\n",
      "TRAINING SAMPLE 3:\n",
      "This film was probably inspired by Godard's Masculin, féminin and I urge you to see that film instead.<br /><br />The film has two strong elements and those are, (1) the realistic acting (2) the impressive, undeservedly good, photo. Apart from that, what strikes me most is the endless stream of silliness. Lena Nyman has to be most annoying actress in the world. She acts so stupid and with all the nudity in this film,...it's unattractive. Comparing to Godard's film, intellectuality has been replaced with stupidity. Without going too far on this subject, I would say that follows from the difference in ideals between the French and the Swedish society.<br /><br />A movie of its time, and place. 2/10.\n",
      "Label 3: 0\n",
      "\n",
      "\n"
     ]
    }
   ],
   "source": [
    "for i in range(4):\n",
    "    print(f'TRAINING SAMPLE {i}:') \n",
    "    print(dataset['train'][i]['text'])\n",
    "    label = dataset['train'][i]['label']\n",
    "    print(f'Label {i}: {label}')\n",
    "    print('\\n')"
   ]
  },
  {
   "cell_type": "markdown",
   "id": "cea96efc-beee-4bd0-9810-ae4d3a4f2da8",
   "metadata": {},
   "source": [
    "We should also check the label distribution:"
   ]
  },
  {
   "cell_type": "code",
   "execution_count": 8,
   "id": "3eb8333b-9271-41b8-845f-3f1694d93145",
   "metadata": {},
   "outputs": [
    {
     "name": "stdout",
     "output_type": "stream",
     "text": [
      "negative samples in train dataset: 12500\n",
      "positive samples in train dataset: 12500\n",
      "negative samples in test dataset: 240\n",
      "positive samples in test dataset: 240\n"
     ]
    }
   ],
   "source": [
    "def label_cnt(type):\n",
    "    ds = dataset[type]\n",
    "    size = len(ds)\n",
    "    cnt= 0 \n",
    "    for smp in ds:\n",
    "        cnt += smp['label']\n",
    "    print(f'negative samples in {type} dataset: {size - cnt}')\n",
    "    print(f'positive samples in {type} dataset: {cnt}')\n",
    "    \n",
    "label_cnt('train')\n",
    "label_cnt('test')"
   ]
  },
  {
   "cell_type": "markdown",
   "id": "34eb5437-c7ca-45ff-ba09-43cc8a8bb916",
   "metadata": {},
   "source": [
    "### __Import the tokenizer for the dataset__"
   ]
  },
  {
   "cell_type": "markdown",
   "id": "c7e913e8-9dbc-4f3a-8315-920e016082d1",
   "metadata": {},
   "source": [
    "\n",
    "We will now tokenize the text the same way we did in the previous part.\n",
    "\n"
   ]
  },
  {
   "cell_type": "code",
   "execution_count": 9,
   "id": "3b1f2f64-07ad-4260-a790-55a0c6f636b5",
   "metadata": {},
   "outputs": [
    {
     "name": "stdout",
     "output_type": "stream",
     "text": [
      "Tokenizer input max length: 512\n",
      "Tokenizer vocabulary size: 30522\n"
     ]
    }
   ],
   "source": [
    "from transformers import AutoTokenizer\n",
    "\n",
    "tokenizer = AutoTokenizer.from_pretrained(\"distilbert-base-uncased\")\n",
    "print(\"Tokenizer input max length:\", tokenizer.model_max_length)\n",
    "print(\"Tokenizer vocabulary size:\", tokenizer.vocab_size)"
   ]
  },
  {
   "cell_type": "code",
   "execution_count": 10,
   "id": "dc753304-4f5a-4ec5-ac2c-04a02f85c68e",
   "metadata": {
    "editable": true,
    "scrolled": true,
    "slideshow": {
     "slide_type": ""
    },
    "tags": []
   },
   "outputs": [
    {
     "data": {
      "application/vnd.jupyter.widget-view+json": {
       "model_id": "159a55b9e3bf4a748a64fdfb5871359c",
       "version_major": 2,
       "version_minor": 0
      },
      "text/plain": [
       "Map:   0%|          | 0/480 [00:00<?, ? examples/s]"
      ]
     },
     "metadata": {},
     "output_type": "display_data"
    }
   ],
   "source": [
    "def tokenize_text(batch):\n",
    "    return tokenizer(batch[\"text\"], truncation=True, padding=True)\n",
    "\n",
    "def tokenize_dataset(dataset):\n",
    "    dataset_tokenized = dataset.map(tokenize_text, batched=True, batch_size =None)\n",
    "    return dataset_tokenized\n",
    "\n",
    "dataset_tokenized = tokenize_dataset(dataset)\n",
    "# we would like to work with pytorch so we can manually fine-tune\n",
    "dataset_tokenized.set_format(\"torch\", columns=[\"input_ids\", \"attention_mask\", \"label\"])\n",
    "# no need to parrarelize in this assignment\n",
    "os.environ[\"TOKENIZERS_PARALLELISM\"] = \"false\""
   ]
  },
  {
   "cell_type": "markdown",
   "id": "51f20fb7-d8f7-41a7-8464-33b5ab488eea",
   "metadata": {
    "tags": []
   },
   "source": [
    "### Setting up the dataloaders and dataset"
   ]
  },
  {
   "cell_type": "markdown",
   "id": "345bb695-5ebc-4927-983e-9880fedf3627",
   "metadata": {},
   "source": [
    "We will now set up the dataloaders for efficient batching and loading of the data.  \n",
    "By now, you are familiar with the Class methods that are needed to create a working Dataloader.\n"
   ]
  },
  {
   "cell_type": "code",
   "execution_count": 11,
   "id": "99a6770a-d5d1-4fb0-a7e7-bb15e0cba57b",
   "metadata": {},
   "outputs": [],
   "source": [
    "class IMDBDataset(Dataset):\n",
    "    def __init__(self, dataset):\n",
    "        self.ds = dataset\n",
    "\n",
    "    def __getitem__(self, index):\n",
    "        return self.ds[index]\n",
    "\n",
    "    def __len__(self):\n",
    "        return self.ds.num_rows"
   ]
  },
  {
   "cell_type": "code",
   "execution_count": 12,
   "id": "a5e7119d-62fb-4e80-915d-79d25edde074",
   "metadata": {},
   "outputs": [],
   "source": [
    "train_dataset = IMDBDataset(dataset_tokenized['train'])\n",
    "test_dataset = IMDBDataset(dataset_tokenized['test'])"
   ]
  },
  {
   "cell_type": "code",
   "execution_count": 13,
   "id": "b332f651-1a7c-45d4-949f-a09ad2c635db",
   "metadata": {
    "editable": true,
    "slideshow": {
     "slide_type": ""
    },
    "tags": []
   },
   "outputs": [],
   "source": [
    "\n",
    "n_workers= 0\n",
    "\n",
    "dl_train,dl_test = [ \n",
    "    DataLoader(\n",
    "    dataset=train_dataset,\n",
    "    batch_size=12,\n",
    "    shuffle=True, \n",
    "    num_workers=n_workers\n",
    "),\n",
    "DataLoader(\n",
    "    dataset=test_dataset,\n",
    "    batch_size=12,\n",
    "    shuffle=False,\n",
    "    num_workers=n_workers\n",
    ")]"
   ]
  },
  {
   "cell_type": "code",
   "execution_count": 14,
   "id": "cc6401fe-0590-4dec-8679-b9d0e36123d7",
   "metadata": {},
   "outputs": [
    {
     "data": {
      "text/plain": [
       "<torch.utils.data.dataloader.DataLoader at 0x1c856c4aa60>"
      ]
     },
     "execution_count": 14,
     "metadata": {},
     "output_type": "execute_result"
    }
   ],
   "source": [
    "dl_train"
   ]
  },
  {
   "cell_type": "markdown",
   "id": "00f020ce-572c-4e8f-869e-5b92f36b6313",
   "metadata": {
    "editable": true,
    "slideshow": {
     "slide_type": ""
    },
    "tags": []
   },
   "source": [
    "## Importing the model from Hugging Face\n",
    "We will now  delve into the process of loading the DistilBERT model from `Hugging Face`. DistilBERT is a distilled version of the BERT model, offering a lighter and faster alternative while retaining considerable performance on various NLP tasks.  \n",
    "Please refer to the introduction to check out the relevant papers.  \n",
    "For more info on how to use this model, feel free to check it out on the site:  \n",
    "https://huggingface.co/distilbert-base-uncased \n",
    "\n"
   ]
  },
  {
   "cell_type": "markdown",
   "id": "ceee7eef-3ce5-4026-8731-316dc4f2c53b",
   "metadata": {},
   "source": [
    "To begin, we will import the necessary library required for our implementation.\n",
    "It is fine if you receive a warning from `Hugging Face` to train the model on a downstream task, which is exactly what we will do on our IMDB dataset. "
   ]
  },
  {
   "cell_type": "code",
   "execution_count": 15,
   "id": "d1a936c1-b62f-4be3-a7e0-dc4a25af1686",
   "metadata": {},
   "outputs": [],
   "source": [
    "from transformers import AutoModelForSequenceClassification\n"
   ]
  },
  {
   "cell_type": "code",
   "execution_count": 16,
   "id": "c9135d51-fe93-48b3-bbd1-327d475b983c",
   "metadata": {},
   "outputs": [
    {
     "name": "stderr",
     "output_type": "stream",
     "text": [
      "Some weights of DistilBertForSequenceClassification were not initialized from the model checkpoint at distilbert-base-uncased and are newly initialized: ['classifier.bias', 'classifier.weight', 'pre_classifier.bias', 'pre_classifier.weight']\n",
      "You should probably TRAIN this model on a down-stream task to be able to use it for predictions and inference.\n"
     ]
    }
   ],
   "source": [
    "model = AutoModelForSequenceClassification.from_pretrained(\n",
    "    \"distilbert-base-uncased\", num_labels=2)"
   ]
  },
  {
   "cell_type": "markdown",
   "id": "dc6993c8-c9d0-4aa5-a1bf-a7ff4555cc9b",
   "metadata": {},
   "source": [
    "__Let's print the model architecture to see what we are dealing with:__"
   ]
  },
  {
   "cell_type": "code",
   "execution_count": 17,
   "id": "30274a2c-d2ac-407f-8aa2-ba2cd531d044",
   "metadata": {
    "scrolled": true
   },
   "outputs": [
    {
     "data": {
      "text/plain": [
       "DistilBertForSequenceClassification(\n",
       "  (distilbert): DistilBertModel(\n",
       "    (embeddings): Embeddings(\n",
       "      (word_embeddings): Embedding(30522, 768, padding_idx=0)\n",
       "      (position_embeddings): Embedding(512, 768)\n",
       "      (LayerNorm): LayerNorm((768,), eps=1e-12, elementwise_affine=True)\n",
       "      (dropout): Dropout(p=0.1, inplace=False)\n",
       "    )\n",
       "    (transformer): Transformer(\n",
       "      (layer): ModuleList(\n",
       "        (0): TransformerBlock(\n",
       "          (attention): MultiHeadSelfAttention(\n",
       "            (dropout): Dropout(p=0.1, inplace=False)\n",
       "            (q_lin): Linear(in_features=768, out_features=768, bias=True)\n",
       "            (k_lin): Linear(in_features=768, out_features=768, bias=True)\n",
       "            (v_lin): Linear(in_features=768, out_features=768, bias=True)\n",
       "            (out_lin): Linear(in_features=768, out_features=768, bias=True)\n",
       "          )\n",
       "          (sa_layer_norm): LayerNorm((768,), eps=1e-12, elementwise_affine=True)\n",
       "          (ffn): FFN(\n",
       "            (dropout): Dropout(p=0.1, inplace=False)\n",
       "            (lin1): Linear(in_features=768, out_features=3072, bias=True)\n",
       "            (lin2): Linear(in_features=3072, out_features=768, bias=True)\n",
       "            (activation): GELUActivation()\n",
       "          )\n",
       "          (output_layer_norm): LayerNorm((768,), eps=1e-12, elementwise_affine=True)\n",
       "        )\n",
       "        (1): TransformerBlock(\n",
       "          (attention): MultiHeadSelfAttention(\n",
       "            (dropout): Dropout(p=0.1, inplace=False)\n",
       "            (q_lin): Linear(in_features=768, out_features=768, bias=True)\n",
       "            (k_lin): Linear(in_features=768, out_features=768, bias=True)\n",
       "            (v_lin): Linear(in_features=768, out_features=768, bias=True)\n",
       "            (out_lin): Linear(in_features=768, out_features=768, bias=True)\n",
       "          )\n",
       "          (sa_layer_norm): LayerNorm((768,), eps=1e-12, elementwise_affine=True)\n",
       "          (ffn): FFN(\n",
       "            (dropout): Dropout(p=0.1, inplace=False)\n",
       "            (lin1): Linear(in_features=768, out_features=3072, bias=True)\n",
       "            (lin2): Linear(in_features=3072, out_features=768, bias=True)\n",
       "            (activation): GELUActivation()\n",
       "          )\n",
       "          (output_layer_norm): LayerNorm((768,), eps=1e-12, elementwise_affine=True)\n",
       "        )\n",
       "        (2): TransformerBlock(\n",
       "          (attention): MultiHeadSelfAttention(\n",
       "            (dropout): Dropout(p=0.1, inplace=False)\n",
       "            (q_lin): Linear(in_features=768, out_features=768, bias=True)\n",
       "            (k_lin): Linear(in_features=768, out_features=768, bias=True)\n",
       "            (v_lin): Linear(in_features=768, out_features=768, bias=True)\n",
       "            (out_lin): Linear(in_features=768, out_features=768, bias=True)\n",
       "          )\n",
       "          (sa_layer_norm): LayerNorm((768,), eps=1e-12, elementwise_affine=True)\n",
       "          (ffn): FFN(\n",
       "            (dropout): Dropout(p=0.1, inplace=False)\n",
       "            (lin1): Linear(in_features=768, out_features=3072, bias=True)\n",
       "            (lin2): Linear(in_features=3072, out_features=768, bias=True)\n",
       "            (activation): GELUActivation()\n",
       "          )\n",
       "          (output_layer_norm): LayerNorm((768,), eps=1e-12, elementwise_affine=True)\n",
       "        )\n",
       "        (3): TransformerBlock(\n",
       "          (attention): MultiHeadSelfAttention(\n",
       "            (dropout): Dropout(p=0.1, inplace=False)\n",
       "            (q_lin): Linear(in_features=768, out_features=768, bias=True)\n",
       "            (k_lin): Linear(in_features=768, out_features=768, bias=True)\n",
       "            (v_lin): Linear(in_features=768, out_features=768, bias=True)\n",
       "            (out_lin): Linear(in_features=768, out_features=768, bias=True)\n",
       "          )\n",
       "          (sa_layer_norm): LayerNorm((768,), eps=1e-12, elementwise_affine=True)\n",
       "          (ffn): FFN(\n",
       "            (dropout): Dropout(p=0.1, inplace=False)\n",
       "            (lin1): Linear(in_features=768, out_features=3072, bias=True)\n",
       "            (lin2): Linear(in_features=3072, out_features=768, bias=True)\n",
       "            (activation): GELUActivation()\n",
       "          )\n",
       "          (output_layer_norm): LayerNorm((768,), eps=1e-12, elementwise_affine=True)\n",
       "        )\n",
       "        (4): TransformerBlock(\n",
       "          (attention): MultiHeadSelfAttention(\n",
       "            (dropout): Dropout(p=0.1, inplace=False)\n",
       "            (q_lin): Linear(in_features=768, out_features=768, bias=True)\n",
       "            (k_lin): Linear(in_features=768, out_features=768, bias=True)\n",
       "            (v_lin): Linear(in_features=768, out_features=768, bias=True)\n",
       "            (out_lin): Linear(in_features=768, out_features=768, bias=True)\n",
       "          )\n",
       "          (sa_layer_norm): LayerNorm((768,), eps=1e-12, elementwise_affine=True)\n",
       "          (ffn): FFN(\n",
       "            (dropout): Dropout(p=0.1, inplace=False)\n",
       "            (lin1): Linear(in_features=768, out_features=3072, bias=True)\n",
       "            (lin2): Linear(in_features=3072, out_features=768, bias=True)\n",
       "            (activation): GELUActivation()\n",
       "          )\n",
       "          (output_layer_norm): LayerNorm((768,), eps=1e-12, elementwise_affine=True)\n",
       "        )\n",
       "        (5): TransformerBlock(\n",
       "          (attention): MultiHeadSelfAttention(\n",
       "            (dropout): Dropout(p=0.1, inplace=False)\n",
       "            (q_lin): Linear(in_features=768, out_features=768, bias=True)\n",
       "            (k_lin): Linear(in_features=768, out_features=768, bias=True)\n",
       "            (v_lin): Linear(in_features=768, out_features=768, bias=True)\n",
       "            (out_lin): Linear(in_features=768, out_features=768, bias=True)\n",
       "          )\n",
       "          (sa_layer_norm): LayerNorm((768,), eps=1e-12, elementwise_affine=True)\n",
       "          (ffn): FFN(\n",
       "            (dropout): Dropout(p=0.1, inplace=False)\n",
       "            (lin1): Linear(in_features=768, out_features=3072, bias=True)\n",
       "            (lin2): Linear(in_features=3072, out_features=768, bias=True)\n",
       "            (activation): GELUActivation()\n",
       "          )\n",
       "          (output_layer_norm): LayerNorm((768,), eps=1e-12, elementwise_affine=True)\n",
       "        )\n",
       "      )\n",
       "    )\n",
       "  )\n",
       "  (pre_classifier): Linear(in_features=768, out_features=768, bias=True)\n",
       "  (classifier): Linear(in_features=768, out_features=2, bias=True)\n",
       "  (dropout): Dropout(p=0.2, inplace=False)\n",
       ")"
      ]
     },
     "execution_count": 17,
     "metadata": {},
     "output_type": "execute_result"
    }
   ],
   "source": [
    "model"
   ]
  },
  {
   "cell_type": "markdown",
   "id": "7d1c63e3-0e26-4af9-91db-5bec4bb7153e",
   "metadata": {},
   "source": [
    "## Fine Tuning\n",
    "We will now move on to the process of fine-tuning the model that we previously loaded from `Hugging Face`. Fine-tuning allows us to adapt the pre-trained model to our specific NLP task by further training it on task-specific data. This process enhances the model's performance and enables it to make more accurate predictions on our target task.  \n",
    "\n",
    "There are generally two approaches to fine-tuning the loaded model, each with its own advantages and considerations:  \n",
    "\n",
    "1) __Freeze all the weights besides the last two linear layers and train only those layers__:  \n",
    "This approach is commonly referred to as \"transfer learning\" or \"feature extraction.\" By freezing the weights of the majority of the model's layers, we retain the pre-trained knowledge captured by the model, allowing it to extract useful features from our data. We then replace and train the final few layers, typically linear layers, to adapt the model to our specific task. This method is beneficial when we have limited labeled data or when the pre-trained model has been trained on a similar domain.\n",
    "\n",
    "2) __Retrain all the parameters in the model__:  \n",
    "This approach involves unfreezing and training all the parameters of the loaded model, including the pre-trained layers. By retraining all the parameters, we allow the model to adjust its representations and update its knowledge based on our specific task and data. This method is often preferred when we have sufficient labeled data available and want the model to learn task-specific features from scratch or when the pre-trained model's knowledge may not be directly applicable to our domain."
   ]
  },
  {
   "cell_type": "markdown",
   "id": "33ccd1bb-7e4f-4aa0-897f-1f8d73639543",
   "metadata": {},
   "source": [
    "### Fine-tuning method 1 \n",
    "__Freeze all the weights besides the last two linear layers and train only those layers__\n",
    "\n"
   ]
  },
  {
   "cell_type": "code",
   "execution_count": 18,
   "id": "876d7a82-2233-4017-8221-26a46f9816a9",
   "metadata": {
    "editable": true,
    "slideshow": {
     "slide_type": ""
    },
    "tags": []
   },
   "outputs": [],
   "source": [
    "# TODO:\n",
    "# Freeze all parameters except for the last 2 linear layers\n",
    "# ====== YOUR CODE: ======\n",
    "for param in model.parameters():\n",
    "    param.requires_grad = False\n",
    "\n",
    "for param in model.pre_classifier.parameters():\n",
    "    param.requires_grad = True\n",
    "\n",
    "for param in model.classifier.parameters():\n",
    "    param.requires_grad = True\n",
    "# ========================\n",
    "\n",
    "# HINT: use the printed model architecture to get the layer names\n"
   ]
  },
  {
   "cell_type": "markdown",
   "id": "7a6c125d-d1e9-480c-b527-ffd8e94a19ed",
   "metadata": {},
   "source": [
    "### Training \n",
    "We can use our abstract __Trainer__ class to fine-tune the model:\n",
    "We will not play around with hyperparameters in this section, as the point is to learn to fine-tune a model.   \n",
    "In addition, we do not need to send our own loss function for this loaded model (try to understand why).   \n",
    "\n",
    "__TODO__: Implement the `FineTuningTrainer` in `hw3/training.py`\n",
    "\n",
    "We will train the model for 2 epochs of 40 batches.  \n",
    "You can run this either locally or on the course servers, whichever is most comfortable for you."
   ]
  },
  {
   "cell_type": "code",
   "execution_count": 19,
   "id": "a0ed2f33-018c-4a1b-b5cc-2f9c62de89c4",
   "metadata": {},
   "outputs": [
    {
     "name": "stdout",
     "output_type": "stream",
     "text": [
      "--- EPOCH 1/2 ---\n",
      "train_batch (Avg. Loss 0.686, Accuracy 54.8): 100%|████████████████████████████████████| 40/40 [03:09<00:00,  4.73s/it]\n",
      "test_batch (Avg. Loss 0.670, Accuracy 54.4): 100%|█████████████████████████████████████| 40/40 [02:42<00:00,  4.07s/it]\n",
      "*** Saved checkpoint finetuned_last_2.pt at epoch 1\n",
      "--- EPOCH 2/2 ---\n",
      "train_batch (Avg. Loss 0.666, Accuracy 59.4): 100%|████████████████████████████████████| 40/40 [03:07<00:00,  4.69s/it]\n",
      "test_batch (Avg. Loss 0.639, Accuracy 79.0): 100%|█████████████████████████████████████| 40/40 [02:43<00:00,  4.10s/it]\n",
      "*** Saved checkpoint finetuned_last_2.pt at epoch 2\n",
      "best acc: 78.95833333333333\n"
     ]
    }
   ],
   "source": [
    "from hw3 import training\n",
    "\n",
    "optimizer = torch.optim.Adam(model.parameters(), lr = 5e-5)\n",
    "\n",
    "# fit your model\n",
    "if not os.path.exists('finetuned_last_2.pt'):\n",
    "    trainer = training.FineTuningTrainer(model, loss_fn = None, optimizer = optimizer)\n",
    "    fit_result = trainer.fit(dl_train,dl_test, checkpoints='finetuned_last_2', num_epochs=2, max_batches= 40)\n",
    "    with open('fit_result_finetune_2.pkl', 'wb') as f:\n",
    "        pickle.dump(fit_result, f)\n",
    "    \n",
    "\n",
    "saved_state = torch.load('finetuned_last_2.pt')\n",
    "model.load_state_dict(saved_state['model_state']) \n",
    "best_acc = saved_state['best_acc']\n",
    "print('best acc:', best_acc)\n",
    "\n",
    "with open('fit_result_finetune_2.pkl', 'rb') as f:\n",
    "    fit_result = pickle.load(f) \n",
    "\n"
   ]
  },
  {
   "cell_type": "code",
   "execution_count": 49,
   "id": "9c6147f6-87e8-4615-af5d-310e3f3cf824",
   "metadata": {},
   "outputs": [
    {
     "data": {
      "text/plain": [
       "(<Figure size 1600x1000 with 4 Axes>,\n",
       " array([<Axes: title={'center': 'train_loss'}, xlabel='Iteration #', ylabel='Loss'>,\n",
       "        <Axes: title={'center': 'train_acc'}, xlabel='Epoch #', ylabel='Accuracy (%)'>,\n",
       "        <Axes: title={'center': 'test_loss'}, xlabel='Iteration #', ylabel='Loss'>,\n",
       "        <Axes: title={'center': 'test_acc'}, xlabel='Epoch #', ylabel='Accuracy (%)'>],\n",
       "       dtype=object))"
      ]
     },
     "execution_count": 49,
     "metadata": {},
     "output_type": "execute_result"
    },
    {
     "data": {
      "image/png": "[encoded data removed]",
      "text/plain": [
       "<Figure size 1600x1000 with 4 Axes>"
      ]
     },
     "metadata": {},
     "output_type": "display_data"
    }
   ],
   "source": [
    "plot_fit(fit_result)"
   ]
  },
  {
   "cell_type": "markdown",
   "id": "280a1dc9-4f61-43b2-bfd7-0b90a6c8edf1",
   "metadata": {},
   "source": [
    "### Fine-tuning method 2 \n",
    "__Retraining all the parameters in the model__\n",
    "\n",
    "We will reload the model to ensure that the parameters are untouched and we are starting from scratch"
   ]
  },
  {
   "cell_type": "code",
   "execution_count": null,
   "id": "5195a86c-0ed8-4b23-8c1d-3d464c0e8783",
   "metadata": {},
   "outputs": [],
   "source": [
    "from transformers import AutoModelForSequenceClassification\n"
   ]
  },
  {
   "cell_type": "code",
   "execution_count": null,
   "id": "2bf7042f-5a6f-4a92-9cd7-7ec368e76508",
   "metadata": {},
   "outputs": [],
   "source": [
    "model = AutoModelForSequenceClassification.from_pretrained(\n",
    "    \"distilbert-base-uncased\", num_labels=2)"
   ]
  },
  {
   "cell_type": "code",
   "execution_count": null,
   "id": "37b27c9c-bba4-4533-94c7-1ce9bb6ddcc6",
   "metadata": {
    "scrolled": true
   },
   "outputs": [],
   "source": [
    "model"
   ]
  },
  {
   "cell_type": "code",
   "execution_count": null,
   "id": "95115bc4-7c7a-456c-bcbb-1017556b12a4",
   "metadata": {},
   "outputs": [],
   "source": [
    "# TODO: Make sure all the model parameters are unfrozen\n",
    "# ====== YOUR CODE: ======\n",
    "    \n",
    "# ========================"
   ]
  },
  {
   "cell_type": "code",
   "execution_count": null,
   "id": "dae4bcdb-07ec-4ad1-8eeb-ed9278498cf1",
   "metadata": {},
   "outputs": [],
   "source": [
    "optimizer = torch.optim.Adam(model.parameters(), lr = 5e-5)\n",
    "\n",
    "# fit your model\n",
    "if not os.path.exists('finetuned_all.pt'):\n",
    "    trainer = training.FineTuningTrainer(model, loss_fn = None, optimizer = optimizer)\n",
    "    fit_result = trainer.fit(dl_train,dl_test, checkpoints='finetuned_all', num_epochs=2, max_batches= 40)\n",
    "    with open('finetuned_all.pkl', 'wb') as f:\n",
    "        pickle.dump(fit_result, f)\n",
    "    \n",
    "\n",
    "saved_state = torch.load('finetuned_all.pt')\n",
    "model.load_state_dict(saved_state['model_state']) \n",
    "\n",
    "with open('finetuned_all.pkl', 'rb') as f:\n",
    "    fit_result = pickle.load(f)  \n"
   ]
  },
  {
   "cell_type": "code",
   "execution_count": null,
   "id": "b1891724-abac-4b07-907e-6d4eddf28f97",
   "metadata": {},
   "outputs": [],
   "source": [
    "plot_fit(fit_result)"
   ]
  },
  {
   "cell_type": "markdown",
   "id": "d45272fa-7485-442f-9b55-02e915f5996e",
   "metadata": {},
   "source": [
    "## Questions"
   ]
  },
  {
   "cell_type": "markdown",
   "id": "d08ba155-e730-40ac-b3d4-b70acce56129",
   "metadata": {},
   "source": [
    "Fill out your answers in `hw3.answers.part4_q1` and `hw3.answers.part4_q2`"
   ]
  },
  {
   "cell_type": "code",
   "execution_count": null,
   "id": "013bc948-eaaa-42b7-a9cf-e5f5907b48fa",
   "metadata": {},
   "outputs": [],
   "source": [
    "from cs236781.answers import display_answer\n",
    "import hw3.answers"
   ]
  },
  {
   "cell_type": "markdown",
   "id": "7175a5b9-f10c-40f8-ab04-a4b98cff300b",
   "metadata": {
    "tags": []
   },
   "source": [
    "### Question 1"
   ]
  },
  {
   "cell_type": "markdown",
   "id": "151329aa-8c63-4160-ba05-26b04f16671f",
   "metadata": {},
   "source": [
    "Explain the results that you got here in comparison to the results achieved in the *trained from scratch* encoder from the preivous part.  \n",
    "If one of the models performed better, why was this so?   \n",
    "Will this always be the case on any downstream task, or was this phenomenom specific to this task?\n"
   ]
  },
  {
   "cell_type": "code",
   "execution_count": null,
   "id": "2133cc62-19d4-4928-b7b6-a30bfd891b1f",
   "metadata": {
    "tags": []
   },
   "outputs": [],
   "source": [
    "display_answer(hw3.answers.part4_q1)"
   ]
  },
  {
   "cell_type": "markdown",
   "id": "d8193f04-6678-4837-b10f-517ca09436d9",
   "metadata": {},
   "source": [
    "### Question 2"
   ]
  },
  {
   "cell_type": "markdown",
   "id": "6f05c554-35ca-4229-8ec1-ca2a901c6f9a",
   "metadata": {},
   "source": [
    "Assume that when fine-tuning, instead of freezing the internal model layers and leaving the last 2 layers unfrozen, we instead froze the last layers and fine-tuned internal layers such as the multi-headed attention block .\n",
    "Would the model still be able to succesfully fine-tune to this task?   \n",
    "Or would the results be worse?  \n",
    "Explain  "
   ]
  },
  {
   "cell_type": "code",
   "execution_count": null,
   "id": "3a20da29-d63b-4c1c-a941-b44c5e22f92e",
   "metadata": {
    "tags": []
   },
   "outputs": [],
   "source": [
    "display_answer(hw3.answers.part4_q2)"
   ]
  },
  {
   "cell_type": "markdown",
   "id": "fa03b78f",
   "metadata": {},
   "source": [
    "### Question 3"
   ]
  },
  {
   "cell_type": "markdown",
   "id": "101fe16d",
   "metadata": {},
   "source": [
    "If you want to conduct a machine translation task, as seen in the tutorials, can you use BERT?\n",
    "\n",
    "Describe the modulation you need to do, i.e. if the source tokens are $x_t$ and the target are $y_t$, how would the model work to produce the translation?\n",
    "\n",
    "If the model can't handle this task, describe the architecture changes and why you need them. If a change in the pre-training is required, describe it as well."
   ]
  },
  {
   "cell_type": "code",
   "execution_count": null,
   "id": "d4d8974b",
   "metadata": {},
   "outputs": [],
   "source": [
    "display_answer(hw3.answers.part4_q3)"
   ]
  },
  {
   "cell_type": "markdown",
   "id": "da798bb4",
   "metadata": {},
   "source": [
    "### Question 4\n",
    "\n",
    "We saw in the course two types on sequntial modeling: RNN and Transformers.\n",
    "\n",
    "What could be the main reason to choose RNN over a Transformer? Note that both can be light weight or heavy in computation."
   ]
  },
  {
   "cell_type": "code",
   "execution_count": null,
   "id": "bea5b06a",
   "metadata": {},
   "outputs": [],
   "source": [
    "display_answer(hw3.answers.part4_q4)"
   ]
  },
  {
   "cell_type": "markdown",
   "id": "6138a5b5",
   "metadata": {},
   "source": [
    "### Question 5\n",
    "\n",
    "We have learned that BERT uses \"Next Sentence Prediction\" (NSP) as part of the pre-training tasks.\n",
    "\n",
    "Describe what it is (where is the prediction accure, what is the loss).\n",
    "\n",
    "Do you think this is a crucial part of pre-training? try to analize why you gave the answer, i.e. what essensity it gives to the model, or why it's implicitly don't contibute much. \n"
   ]
  },
  {
   "cell_type": "code",
   "execution_count": null,
   "id": "308d9e40",
   "metadata": {},
   "outputs": [],
   "source": [
    "display_answer(hw3.answers.part4_q5)"
   ]
  },
  {
   "cell_type": "markdown",
   "id": "03ee782f",
   "metadata": {},
   "source": []
  }
 ],
 "metadata": {
  "kernelspec": {
   "display_name": "Python 3 (ipykernel)",
   "language": "python",
   "name": "python3"
  },
  "language_info": {
   "codemirror_mode": {
    "name": "ipython",
    "version": 3
   },
   "file_extension": ".py",
   "mimetype": "text/x-python",
   "name": "python",
   "nbconvert_exporter": "python",
   "pygments_lexer": "ipython3",
   "version": "3.8.12"
  },
  "toc": {
   "base_numbering": 1
  }
 },
 "nbformat": 4,
 "nbformat_minor": 5
}

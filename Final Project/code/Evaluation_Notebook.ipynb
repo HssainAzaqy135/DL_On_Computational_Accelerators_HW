{
 "cells": [
  {
   "cell_type": "markdown",
   "id": "83d834bb-266f-496c-946a-11bac1dbf314",
   "metadata": {},
   "source": [
    "# Evaluation Notebook"
   ]
  },
  {
   "cell_type": "markdown",
   "id": "7e1163c2-9096-49a0-bd5b-0b2a2d07f638",
   "metadata": {},
   "source": [
    "### Imports"
   ]
  },
  {
   "cell_type": "code",
   "execution_count": 26,
   "id": "c339434b-baf8-412c-82d9-3d9c2180a165",
   "metadata": {},
   "outputs": [
    {
     "name": "stdout",
     "output_type": "stream",
     "text": [
      "The autoreload extension is already loaded. To reload it, use:\n",
      "  %reload_ext autoreload\n"
     ]
    }
   ],
   "source": [
    "import torch\n",
    "import torch.nn as nn\n",
    "import torch.nn.functional as F\n",
    "import torch.optim as optim\n",
    "import torchvision\n",
    "from torchvision import datasets, transforms\n",
    "import numpy as np\n",
    "from matplotlib import pyplot as plt\n",
    "# Needed for training\n",
    "from torch.optim.lr_scheduler import StepLR\n",
    "from torch.utils.data import random_split, DataLoader\n",
    "from torch.utils.data.dataset import Subset\n",
    "# Models\n",
    "from models_part1 import FinalClassifier , MNISTAutoencoder, CIFAR10Autoencoder\n",
    "from models_part2 import MNISTClassifyingAutoencoder,CIFAR10ClassifyingAutoencoder\n",
    "from models_part3 import NTXentLoss,MnistSimCLR,Cifar10SimCLR\n",
    "from models_testing import  plot_accuracies,plot_losses,test_classifier,test_classifyingAutoEncoder\n",
    "from models_eval import Accuracy_report,Reconstruction_report,showcase_reconstruction, showcase_interpolation,plot_all_tsne_plots\n",
    "import data_loading\n",
    "from models_training import train_model\n",
    "%load_ext autoreload\n",
    "%autoreload 2"
   ]
  },
  {
   "cell_type": "markdown",
   "id": "12cb04dd-aeed-4ae7-b860-d075e6ed38e1",
   "metadata": {},
   "source": [
    "### Set device"
   ]
  },
  {
   "cell_type": "code",
   "execution_count": 16,
   "id": "5482b249-026e-4e00-9e38-9b551f9ca44d",
   "metadata": {},
   "outputs": [
    {
     "name": "stdout",
     "output_type": "stream",
     "text": [
      "cuda\n"
     ]
    }
   ],
   "source": [
    "device = torch.device(\"cuda\" if torch.cuda.is_available() else \"cpu\")\n",
    "print(device)"
   ]
  },
  {
   "cell_type": "markdown",
   "id": "a0e9e50e-fdfc-43ca-b7ec-5b4540840cc4",
   "metadata": {},
   "source": [
    "## Accuracy Report"
   ]
  },
  {
   "cell_type": "code",
   "execution_count": 29,
   "id": "e772a77a-a6f4-4bf0-8f88-316ff0457c92",
   "metadata": {},
   "outputs": [
    {
     "name": "stdout",
     "output_type": "stream",
     "text": [
      "Testing : ** Part ** 1, mnist model ...\n",
      "MNIST dataset downloaded successfully!\n",
      "Train size: 50000, Validation size: 10000, Test size: 10000\n",
      "DataLoaders created successfully!\n",
      "Computing train accuracy ...\n",
      "Test Accuracy: 99.76%\n",
      "------------------------------\n",
      "Computing val accuracy ...\n",
      "Test Accuracy: 99.68%\n",
      "------------------------------\n",
      "Computing test accuracy ...\n",
      "Test Accuracy: 98.60%\n",
      "------------------------------\n",
      "Testing : ** Part ** 1, cifar model ...\n",
      "Files already downloaded and verified\n",
      "Files already downloaded and verified\n",
      "CIFAR-10 dataset downloaded successfully!\n",
      "Train size: 40000, Validation size: 10000, Test size: 10000\n",
      "DataLoaders created successfully!\n",
      "Computing train accuracy ...\n",
      "Test Accuracy: 77.65%\n",
      "------------------------------\n",
      "Computing val accuracy ...\n",
      "Test Accuracy: 78.25%\n",
      "------------------------------\n",
      "Computing test accuracy ...\n",
      "Test Accuracy: 58.50%\n",
      "------------------------------\n",
      "Testing : ** Part ** 2, mnist model ...\n",
      "MNIST dataset downloaded successfully!\n",
      "Train size: 50000, Validation size: 10000, Test size: 10000\n",
      "DataLoaders created successfully!\n",
      "Computing train accuracy ...\n",
      "Test Accuracy: 99.82%\n",
      "------------------------------\n",
      "Computing val accuracy ...\n",
      "Test Accuracy: 99.82%\n",
      "------------------------------\n",
      "Computing test accuracy ...\n",
      "Test Accuracy: 99.11%\n",
      "------------------------------\n",
      "Testing : ** Part ** 2, cifar model ...\n",
      "Files already downloaded and verified\n",
      "Files already downloaded and verified\n",
      "CIFAR-10 dataset downloaded successfully!\n",
      "Train size: 40000, Validation size: 10000, Test size: 10000\n",
      "DataLoaders created successfully!\n",
      "Computing train accuracy ...\n",
      "Test Accuracy: 99.99%\n",
      "------------------------------\n",
      "Computing val accuracy ...\n",
      "Test Accuracy: 69.51%\n",
      "------------------------------\n",
      "Computing test accuracy ...\n",
      "Test Accuracy: 68.82%\n",
      "------------------------------\n",
      "Testing : ** Part ** 3, mnist model ...\n",
      "MNIST dataset downloaded successfully!\n",
      "Train size: 50000, Validation size: 10000, Test size: 10000\n",
      "DataLoaders created successfully!\n",
      "Computing train accuracy ...\n",
      "Test Accuracy: 99.52%\n",
      "------------------------------\n",
      "Computing val accuracy ...\n",
      "Test Accuracy: 99.58%\n",
      "------------------------------\n",
      "Computing test accuracy ...\n",
      "Test Accuracy: 98.50%\n",
      "------------------------------\n",
      "Testing : ** Part ** 3, cifar model ...\n",
      "Files already downloaded and verified\n",
      "Files already downloaded and verified\n",
      "CIFAR-10 dataset downloaded successfully!\n",
      "Train size: 40000, Validation size: 10000, Test size: 10000\n",
      "DataLoaders created successfully!\n",
      "Computing train accuracy ...\n",
      "Test Accuracy: 73.87%\n",
      "------------------------------\n",
      "Computing val accuracy ...\n",
      "Test Accuracy: 73.96%\n",
      "------------------------------\n",
      "Computing test accuracy ...\n",
      "Test Accuracy: 65.44%\n",
      "------------------------------\n"
     ]
    },
    {
     "data": {
      "text/html": [
       "<div>\n",
       "<style scoped>\n",
       "    .dataframe tbody tr th:only-of-type {\n",
       "        vertical-align: middle;\n",
       "    }\n",
       "\n",
       "    .dataframe tbody tr th {\n",
       "        vertical-align: top;\n",
       "    }\n",
       "\n",
       "    .dataframe thead th {\n",
       "        text-align: right;\n",
       "    }\n",
       "</style>\n",
       "<table border=\"1\" class=\"dataframe\">\n",
       "  <thead>\n",
       "    <tr style=\"text-align: right;\">\n",
       "      <th></th>\n",
       "      <th>Part</th>\n",
       "      <th>Model</th>\n",
       "      <th>Train</th>\n",
       "      <th>Val</th>\n",
       "      <th>Test</th>\n",
       "    </tr>\n",
       "  </thead>\n",
       "  <tbody>\n",
       "    <tr>\n",
       "      <th>0</th>\n",
       "      <td>1</td>\n",
       "      <td>mnist</td>\n",
       "      <td>99.76</td>\n",
       "      <td>99.68</td>\n",
       "      <td>98.60</td>\n",
       "    </tr>\n",
       "    <tr>\n",
       "      <th>1</th>\n",
       "      <td>2</td>\n",
       "      <td>mnist</td>\n",
       "      <td>99.82</td>\n",
       "      <td>99.82</td>\n",
       "      <td>99.11</td>\n",
       "    </tr>\n",
       "    <tr>\n",
       "      <th>2</th>\n",
       "      <td>3</td>\n",
       "      <td>mnist</td>\n",
       "      <td>99.52</td>\n",
       "      <td>99.58</td>\n",
       "      <td>98.50</td>\n",
       "    </tr>\n",
       "    <tr>\n",
       "      <th>3</th>\n",
       "      <td>1</td>\n",
       "      <td>cifar</td>\n",
       "      <td>77.65</td>\n",
       "      <td>78.25</td>\n",
       "      <td>58.50</td>\n",
       "    </tr>\n",
       "    <tr>\n",
       "      <th>4</th>\n",
       "      <td>2</td>\n",
       "      <td>cifar</td>\n",
       "      <td>99.99</td>\n",
       "      <td>69.51</td>\n",
       "      <td>68.82</td>\n",
       "    </tr>\n",
       "    <tr>\n",
       "      <th>5</th>\n",
       "      <td>3</td>\n",
       "      <td>cifar</td>\n",
       "      <td>73.87</td>\n",
       "      <td>73.96</td>\n",
       "      <td>65.44</td>\n",
       "    </tr>\n",
       "  </tbody>\n",
       "</table>\n",
       "</div>"
      ],
      "text/plain": [
       "   Part  Model  Train    Val   Test\n",
       "0     1  mnist  99.76  99.68  98.60\n",
       "1     2  mnist  99.82  99.82  99.11\n",
       "2     3  mnist  99.52  99.58  98.50\n",
       "3     1  cifar  77.65  78.25  58.50\n",
       "4     2  cifar  99.99  69.51  68.82\n",
       "5     3  cifar  73.87  73.96  65.44"
      ]
     },
     "execution_count": 29,
     "metadata": {},
     "output_type": "execute_result"
    }
   ],
   "source": [
    "Accuracy_report()"
   ]
  },
  {
   "cell_type": "markdown",
   "id": "35675b0e-87a5-4c78-85e4-4d3e5a616bb1",
   "metadata": {},
   "source": [
    "## MAE Reconstruction Report"
   ]
  },
  {
   "cell_type": "code",
   "execution_count": null,
   "id": "c6175b5a-9301-428c-ae9d-2ebe0263cada",
   "metadata": {},
   "outputs": [],
   "source": []
  },
  {
   "cell_type": "markdown",
   "id": "ca7bba8c-3004-40be-8196-fff3ff6baa43",
   "metadata": {},
   "source": [
    "## Showcasing reconstruction"
   ]
  },
  {
   "cell_type": "code",
   "execution_count": null,
   "id": "b302ba90-5f36-43f5-9893-f108d33c0960",
   "metadata": {},
   "outputs": [],
   "source": []
  },
  {
   "cell_type": "markdown",
   "id": "7ce99ee1-60c9-4a59-ae9a-13ddc1d1e819",
   "metadata": {},
   "source": [
    "## Showcasing Interpolation"
   ]
  },
  {
   "cell_type": "code",
   "execution_count": null,
   "id": "bb2b3306-0c2b-4591-9633-28d0e20b0b9d",
   "metadata": {},
   "outputs": [],
   "source": []
  },
  {
   "cell_type": "markdown",
   "id": "db7e7b98-97f9-4ce7-9028-1eef6aba1d5c",
   "metadata": {},
   "source": [
    "## tSNE plotting"
   ]
  },
  {
   "cell_type": "code",
   "execution_count": null,
   "id": "2ef19299-edc2-4825-a9de-f95fd54dd1c1",
   "metadata": {},
   "outputs": [],
   "source": []
  },
  {
   "cell_type": "markdown",
   "id": "2fa97a6c-8623-4961-bcc0-83198b891a21",
   "metadata": {},
   "source": [
    "## Retraining a model to see if the seed is fixed"
   ]
  },
  {
   "cell_type": "markdown",
   "id": "30d2ede8-7123-4361-9fe4-e1ec0e4ced7a",
   "metadata": {},
   "source": [
    "* WORKED"
   ]
  },
  {
   "cell_type": "code",
   "execution_count": 28,
   "id": "aaefbb72-87fa-48e5-9d41-d22b7537b8d4",
   "metadata": {},
   "outputs": [
    {
     "name": "stdout",
     "output_type": "stream",
     "text": [
      "-*-*-*-*-*-*-*-*-*-*-*-*-*-*-*-*-*-*-*-*-*-*-*-*-*-*-*-*-*-*-*-*-*-*-*-*-*-*-*-*-*-*-*-\n",
      "Part 2 ,Training cifar model  WITH CLASSIFIER ...\n",
      "-*-*-*-*-*-*-*-*-*-*-*-*-*-*-*-*-*-*-*-*-*-*-*-*-*-*-*-*-*-*-*-*-*-*-*-*-*-*-*-*-*-*-*-\n",
      "Files already downloaded and verified\n",
      "Files already downloaded and verified\n",
      "CIFAR-10 dataset downloaded successfully!\n",
      "Train size: 40000, Validation size: 10000, Test size: 10000\n",
      "DataLoaders created successfully!\n",
      "Initializing weights ....\n",
      "Initializing weights DONE\n",
      "Epoch [1/40], Time: 11.83s, Train Loss: 1.4505, Train Accuracy: 47.69%, Val Accuracy: 57.09%, LR: 0.0010000\n",
      "Epoch [2/40], Time: 11.71s, Train Loss: 1.0620, Train Accuracy: 62.60%, Val Accuracy: 64.65%, LR: 0.0010000\n",
      "Epoch [3/40], Time: 11.86s, Train Loss: 0.8766, Train Accuracy: 69.44%, Val Accuracy: 67.90%, LR: 0.0010000\n",
      "Epoch [4/40], Time: 11.89s, Train Loss: 0.7348, Train Accuracy: 74.52%, Val Accuracy: 68.39%, LR: 0.0010000\n",
      "Epoch [5/40], Time: 11.81s, Train Loss: 0.6132, Train Accuracy: 79.10%, Val Accuracy: 69.09%, LR: 0.0010000\n",
      "Epoch [6/40], Time: 11.95s, Train Loss: 0.5071, Train Accuracy: 82.78%, Val Accuracy: 70.01%, LR: 0.0010000\n",
      "Epoch [7/40], Time: 11.88s, Train Loss: 0.4233, Train Accuracy: 85.68%, Val Accuracy: 69.28%, LR: 0.0010000\n",
      "Epoch [8/40], Time: 11.85s, Train Loss: 0.3463, Train Accuracy: 88.28%, Val Accuracy: 68.50%, LR: 0.0010000\n",
      "Epoch [9/40], Time: 11.64s, Train Loss: 0.2854, Train Accuracy: 90.56%, Val Accuracy: 68.62%, LR: 0.0010000\n",
      "Epoch [10/40], Time: 11.97s, Train Loss: 0.2415, Train Accuracy: 91.80%, Val Accuracy: 67.73%, LR: 0.0010000\n",
      "Epoch [11/40], Time: 11.43s, Train Loss: 0.2112, Train Accuracy: 92.83%, Val Accuracy: 67.48%, LR: 0.0010000\n",
      "Epoch [12/40], Time: 11.29s, Train Loss: 0.1768, Train Accuracy: 93.98%, Val Accuracy: 68.13%, LR: 0.0001250\n",
      "Epoch [13/40], Time: 11.42s, Train Loss: 0.0863, Train Accuracy: 97.33%, Val Accuracy: 70.03%, LR: 0.0001250\n",
      "Epoch [14/40], Time: 11.41s, Train Loss: 0.0500, Train Accuracy: 98.62%, Val Accuracy: 69.88%, LR: 0.0001250\n",
      "Epoch [15/40], Time: 11.26s, Train Loss: 0.0356, Train Accuracy: 99.07%, Val Accuracy: 69.77%, LR: 0.0001250\n",
      "Epoch [16/40], Time: 11.30s, Train Loss: 0.0260, Train Accuracy: 99.38%, Val Accuracy: 69.42%, LR: 0.0001250\n",
      "Epoch [17/40], Time: 11.34s, Train Loss: 0.0226, Train Accuracy: 99.43%, Val Accuracy: 69.52%, LR: 0.0001250\n",
      "Epoch [18/40], Time: 11.35s, Train Loss: 0.0172, Train Accuracy: 99.55%, Val Accuracy: 69.48%, LR: 0.0000156\n",
      "Epoch [19/40], Time: 11.31s, Train Loss: 0.0137, Train Accuracy: 99.69%, Val Accuracy: 69.52%, LR: 0.0000156\n",
      "Epoch [20/40], Time: 11.15s, Train Loss: 0.0113, Train Accuracy: 99.78%, Val Accuracy: 69.65%, LR: 0.0000156\n",
      "Epoch [21/40], Time: 11.57s, Train Loss: 0.0111, Train Accuracy: 99.74%, Val Accuracy: 69.60%, LR: 0.0000156\n",
      "Epoch [22/40], Time: 11.25s, Train Loss: 0.0108, Train Accuracy: 99.77%, Val Accuracy: 69.61%, LR: 0.0000156\n",
      "Epoch [23/40], Time: 11.41s, Train Loss: 0.0100, Train Accuracy: 99.79%, Val Accuracy: 69.38%, LR: 0.0000156\n",
      "Epoch [24/40], Time: 11.63s, Train Loss: 0.0099, Train Accuracy: 99.80%, Val Accuracy: 69.51%, LR: 0.0000020\n",
      "Epoch [25/40], Time: 15.15s, Train Loss: 0.0089, Train Accuracy: 99.83%, Val Accuracy: 69.43%, LR: 0.0000020\n",
      "Epoch [26/40], Time: 14.77s, Train Loss: 0.0088, Train Accuracy: 99.82%, Val Accuracy: 69.51%, LR: 0.0000020\n",
      "Epoch [27/40], Time: 14.38s, Train Loss: 0.0092, Train Accuracy: 99.83%, Val Accuracy: 69.30%, LR: 0.0000020\n",
      "Epoch [28/40], Time: 15.07s, Train Loss: 0.0081, Train Accuracy: 99.85%, Val Accuracy: 69.47%, LR: 0.0000020\n",
      "Epoch [29/40], Time: 15.54s, Train Loss: 0.0094, Train Accuracy: 99.81%, Val Accuracy: 69.41%, LR: 0.0000020\n",
      "Epoch [30/40], Time: 18.56s, Train Loss: 0.0077, Train Accuracy: 99.86%, Val Accuracy: 69.81%, LR: 0.0000002\n",
      "Epoch [31/40], Time: 17.47s, Train Loss: 0.0088, Train Accuracy: 99.81%, Val Accuracy: 69.64%, LR: 0.0000002\n",
      "Epoch [32/40], Time: 14.62s, Train Loss: 0.0083, Train Accuracy: 99.83%, Val Accuracy: 69.64%, LR: 0.0000002\n",
      "Epoch [33/40], Time: 15.18s, Train Loss: 0.0083, Train Accuracy: 99.85%, Val Accuracy: 69.54%, LR: 0.0000002\n",
      "Epoch [34/40], Time: 17.14s, Train Loss: 0.0085, Train Accuracy: 99.84%, Val Accuracy: 69.52%, LR: 0.0000002\n",
      "Epoch [35/40], Time: 15.09s, Train Loss: 0.0089, Train Accuracy: 99.82%, Val Accuracy: 69.53%, LR: 0.0000002\n",
      "Epoch [36/40], Time: 13.73s, Train Loss: 0.0080, Train Accuracy: 99.84%, Val Accuracy: 69.44%, LR: 0.0000001\n",
      "Epoch [37/40], Time: 13.56s, Train Loss: 0.0084, Train Accuracy: 99.84%, Val Accuracy: 69.45%, LR: 0.0000001\n",
      "Epoch [38/40], Time: 13.15s, Train Loss: 0.0085, Train Accuracy: 99.83%, Val Accuracy: 69.44%, LR: 0.0000001\n",
      "Epoch [39/40], Time: 13.45s, Train Loss: 0.0079, Train Accuracy: 99.86%, Val Accuracy: 69.51%, LR: 0.0000001\n",
      "Epoch [40/40], Time: 13.06s, Train Loss: 0.0080, Train Accuracy: 99.86%, Val Accuracy: 69.51%, LR: 0.0000001\n",
      "-*-*-*-*-*-*-*-*-*-*-*-*-*-*-*-*-*-*-*-*-*-*-*-*-*-*-*-*-*-*-*-*-*-*-*-*-*-*-*-*-*-*-*-\n",
      "Part 2 , Saving pretrained model and classifier to trained_models/part_2/cifar.pth ...\n",
      "-*-*-*-*-*-*-*-*-*-*-*-*-*-*-*-*-*-*-*-*-*-*-*-*-*-*-*-*-*-*-*-*-*-*-*-*-*-*-*-*-*-*-*-\n",
      "---------------------------- model saved -----------------------------\n"
     ]
    },
    {
     "data": {
      "text/plain": [
       "{'model_train_losses': None,\n",
       " 'model_val_losses': None,\n",
       " 'classifier_train_accuracies': [47.6875,\n",
       "  62.5975,\n",
       "  69.44,\n",
       "  74.52,\n",
       "  79.1,\n",
       "  82.7825,\n",
       "  85.6825,\n",
       "  88.2775,\n",
       "  90.555,\n",
       "  91.8,\n",
       "  92.835,\n",
       "  93.9775,\n",
       "  97.335,\n",
       "  98.6225,\n",
       "  99.07,\n",
       "  99.3775,\n",
       "  99.43,\n",
       "  99.55,\n",
       "  99.6925,\n",
       "  99.775,\n",
       "  99.7375,\n",
       "  99.77,\n",
       "  99.7875,\n",
       "  99.795,\n",
       "  99.83,\n",
       "  99.8225,\n",
       "  99.825,\n",
       "  99.8475,\n",
       "  99.8075,\n",
       "  99.8575,\n",
       "  99.815,\n",
       "  99.825,\n",
       "  99.8475,\n",
       "  99.84,\n",
       "  99.8175,\n",
       "  99.8425,\n",
       "  99.845,\n",
       "  99.825,\n",
       "  99.8625,\n",
       "  99.8625],\n",
       " 'classifier_val_accuracies': [57.09,\n",
       "  64.65,\n",
       "  67.9,\n",
       "  68.39,\n",
       "  69.09,\n",
       "  70.01,\n",
       "  69.28,\n",
       "  68.5,\n",
       "  68.62,\n",
       "  67.73,\n",
       "  67.48,\n",
       "  68.13,\n",
       "  70.03,\n",
       "  69.88,\n",
       "  69.77,\n",
       "  69.42,\n",
       "  69.52,\n",
       "  69.48,\n",
       "  69.52,\n",
       "  69.65,\n",
       "  69.6,\n",
       "  69.61,\n",
       "  69.38,\n",
       "  69.51,\n",
       "  69.43,\n",
       "  69.51,\n",
       "  69.3,\n",
       "  69.47,\n",
       "  69.41,\n",
       "  69.81,\n",
       "  69.64,\n",
       "  69.64,\n",
       "  69.54,\n",
       "  69.52,\n",
       "  69.53,\n",
       "  69.44,\n",
       "  69.45,\n",
       "  69.44,\n",
       "  69.51,\n",
       "  69.51]}"
      ]
     },
     "execution_count": 28,
     "metadata": {},
     "output_type": "execute_result"
    }
   ],
   "source": [
    "#train_model(part=2,dataset='cifar')"
   ]
  },
  {
   "cell_type": "code",
   "execution_count": null,
   "id": "0416e82f-4e44-470a-86e6-1d2ee34916db",
   "metadata": {},
   "outputs": [],
   "source": []
  }
 ],
 "metadata": {
  "kernelspec": {
   "display_name": "Python 3 (ipykernel)",
   "language": "python",
   "name": "python3"
  },
  "language_info": {
   "codemirror_mode": {
    "name": "ipython",
    "version": 3
   },
   "file_extension": ".py",
   "mimetype": "text/x-python",
   "name": "python",
   "nbconvert_exporter": "python",
   "pygments_lexer": "ipython3",
   "version": "3.8.12"
  }
 },
 "nbformat": 4,
 "nbformat_minor": 5
}

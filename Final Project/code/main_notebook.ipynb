{
 "cells": [
  {
   "cell_type": "markdown",
   "id": "fc310d5e-dfed-45c0-9ba2-5f21f0ed63c7",
   "metadata": {},
   "source": [
    "# Main Project Notebook"
   ]
  },
  {
   "cell_type": "code",
   "execution_count": 10,
   "id": "06d1a329-274a-42ee-8982-661b43fa4d60",
   "metadata": {},
   "outputs": [
    {
     "name": "stdout",
     "output_type": "stream",
     "text": [
      "The autoreload extension is already loaded. To reload it, use:\n",
      "  %reload_ext autoreload\n"
     ]
    }
   ],
   "source": [
    "import torch\n",
    "import torch.nn as nn\n",
    "import torch.nn.functional as F\n",
    "import torch.optim as optim\n",
    "import torchvision\n",
    "\n",
    "from models_testing import  plot_accuracies,plot_losses,test_classifier,test_classifyingAutoEncoder\n",
    "from models_testing import create_model_folders,PretrainedModel,save_pretrained_model,test_accuracy_all_models\n",
    "from models_eval import plot_all_tsne_plots\n",
    "from data_loading import load_and_prep_data\n",
    "from models_training import train_model,train_all_models\n",
    "import utils\n",
    "\n",
    "#logging\n",
    "import json\n",
    "%load_ext autoreload\n",
    "%autoreload 2"
   ]
  },
  {
   "cell_type": "code",
   "execution_count": 11,
   "id": "744759fc-5f2f-405d-9ba2-7458266b343f",
   "metadata": {},
   "outputs": [
    {
     "data": {
      "text/plain": [
       "device(type='cuda')"
      ]
     },
     "execution_count": 11,
     "metadata": {},
     "output_type": "execute_result"
    }
   ],
   "source": [
    "device = torch.device(\"cuda\" if torch.cuda.is_available() else \"cpu\")\n",
    "device"
   ]
  },
  {
   "cell_type": "markdown",
   "id": "d34641c0-0a1e-4010-b92d-f1ac8b65ce12",
   "metadata": {},
   "source": [
    "## Making model folders"
   ]
  },
  {
   "cell_type": "code",
   "execution_count": 12,
   "id": "cbaa7f27-7935-47aa-a3a9-7237cf37549c",
   "metadata": {},
   "outputs": [
    {
     "name": "stdout",
     "output_type": "stream",
     "text": [
      "Directory already exists: trained_models\n",
      "Directory already exists: trained_models\\part_1\n",
      "Directory already exists: trained_models\\part_2\n",
      "Directory already exists: trained_models\\part_3\n",
      "Directory already exists: mnist_data\n",
      "Directory already exists: cifar10_data\n",
      "Directory already exists: tsne_plots\n"
     ]
    }
   ],
   "source": [
    "create_model_folders()"
   ]
  },
  {
   "cell_type": "markdown",
   "id": "ceb7bace-3188-4a2b-bf48-2800275f76e9",
   "metadata": {},
   "source": [
    "# Simulate Training"
   ]
  },
  {
   "cell_type": "code",
   "execution_count": 4,
   "id": "93ba2338-b6b5-4494-a785-a508048d0fba",
   "metadata": {},
   "outputs": [],
   "source": [
    "#training_results = train_all_models()"
   ]
  },
  {
   "cell_type": "markdown",
   "id": "fd341106-d035-4a49-90a0-8df1d8c2a74a",
   "metadata": {},
   "source": [
    "## Backup result"
   ]
  },
  {
   "cell_type": "code",
   "execution_count": null,
   "id": "1b36cf68-c182-4a73-9161-aa0f92d44201",
   "metadata": {},
   "outputs": [],
   "source": [
    "file_path = \"training_results.json\"\n",
    "\n",
    "# Write dictionary to JSON file\n",
    "with open(file_path, 'w') as json_file:\n",
    "    json.dump(training_results, json_file)"
   ]
  },
  {
   "cell_type": "markdown",
   "id": "ff9d4969-6454-47d5-ac31-80120a5df89a",
   "metadata": {},
   "source": [
    "## Test all models"
   ]
  },
  {
   "cell_type": "code",
   "execution_count": 5,
   "id": "3ef7392d-9e31-4dc5-a626-fcbe0c96b589",
   "metadata": {},
   "outputs": [
    {
     "name": "stdout",
     "output_type": "stream",
     "text": [
      "Testing : ** Part ** 1, mnist model ...\n",
      "MNIST dataset downloaded successfully!\n",
      "Train size: 50000, Validation size: 10000, Test size: 10000\n",
      "DataLoaders created successfully!\n",
      "------------------ Accuracy ------------------\n",
      "Test Accuracy: 98.60%\n",
      "------------------- DONE ---------------------\n",
      "Testing : ** Part ** 1, cifar model ...\n",
      "Files already downloaded and verified\n",
      "Files already downloaded and verified\n",
      "CIFAR-10 dataset downloaded successfully!\n",
      "Train size: 40000, Validation size: 10000, Test size: 10000\n",
      "DataLoaders created successfully!\n",
      "------------------ Accuracy ------------------\n",
      "Test Accuracy: 58.50%\n",
      "------------------- DONE ---------------------\n",
      "Testing : ** Part ** 2, mnist model ...\n",
      "MNIST dataset downloaded successfully!\n",
      "Train size: 50000, Validation size: 10000, Test size: 10000\n",
      "DataLoaders created successfully!\n",
      "------------------ Accuracy ------------------\n",
      "Test Accuracy: 99.11%\n",
      "------------------- DONE ---------------------\n",
      "Testing : ** Part ** 2, cifar model ...\n",
      "Files already downloaded and verified\n",
      "Files already downloaded and verified\n",
      "CIFAR-10 dataset downloaded successfully!\n",
      "Train size: 40000, Validation size: 10000, Test size: 10000\n",
      "DataLoaders created successfully!\n",
      "------------------ Accuracy ------------------\n",
      "Test Accuracy: 68.42%\n",
      "------------------- DONE ---------------------\n",
      "Testing : ** Part ** 3, mnist model ...\n",
      "MNIST dataset downloaded successfully!\n",
      "Train size: 50000, Validation size: 10000, Test size: 10000\n",
      "DataLoaders created successfully!\n",
      "------------------ Accuracy ------------------\n",
      "Test Accuracy: 98.50%\n",
      "------------------- DONE ---------------------\n",
      "Testing : ** Part ** 3, cifar model ...\n",
      "Files already downloaded and verified\n",
      "Files already downloaded and verified\n",
      "CIFAR-10 dataset downloaded successfully!\n",
      "Train size: 40000, Validation size: 10000, Test size: 10000\n",
      "DataLoaders created successfully!\n",
      "------------------ Accuracy ------------------\n",
      "Test Accuracy: 65.44%\n",
      "------------------- DONE ---------------------\n"
     ]
    }
   ],
   "source": [
    "test_accuracy_all_models()"
   ]
  },
  {
   "cell_type": "markdown",
   "id": "48783cce-0765-4857-ad21-51bac1ac8e3e",
   "metadata": {},
   "source": [
    "### tSNE plots"
   ]
  },
  {
   "cell_type": "code",
   "execution_count": 14,
   "id": "333df0e9-fbe0-44dc-89ad-ade7aeca07de",
   "metadata": {},
   "outputs": [
    {
     "name": "stdout",
     "output_type": "stream",
     "text": [
      "MNIST dataset downloaded successfully!\n",
      "Train size: 50000, Validation size: 10000, Test size: 10000\n",
      "DataLoaders created successfully!\n",
      "Files already downloaded and verified\n",
      "Files already downloaded and verified\n",
      "CIFAR-10 dataset downloaded successfully!\n",
      "Train size: 40000, Validation size: 10000, Test size: 10000\n",
      "DataLoaders created successfully!\n",
      "MNIST dataset downloaded successfully!\n",
      "Train size: 50000, Validation size: 10000, Test size: 10000\n",
      "DataLoaders created successfully!\n",
      "Files already downloaded and verified\n",
      "Files already downloaded and verified\n",
      "CIFAR-10 dataset downloaded successfully!\n",
      "Train size: 40000, Validation size: 10000, Test size: 10000\n",
      "DataLoaders created successfully!\n",
      "MNIST dataset downloaded successfully!\n",
      "Train size: 50000, Validation size: 10000, Test size: 10000\n",
      "DataLoaders created successfully!\n",
      "Files already downloaded and verified\n",
      "Files already downloaded and verified\n",
      "CIFAR-10 dataset downloaded successfully!\n",
      "Train size: 40000, Validation size: 10000, Test size: 10000\n",
      "DataLoaders created successfully!\n"
     ]
    }
   ],
   "source": [
    "plot_all_tsne_plots()"
   ]
  },
  {
   "cell_type": "code",
   "execution_count": null,
   "id": "690cc021-263a-4198-b279-cbf3ba3c406c",
   "metadata": {},
   "outputs": [],
   "source": []
  }
 ],
 "metadata": {
  "kernelspec": {
   "display_name": "Python 3 (ipykernel)",
   "language": "python",
   "name": "python3"
  },
  "language_info": {
   "codemirror_mode": {
    "name": "ipython",
    "version": 3
   },
   "file_extension": ".py",
   "mimetype": "text/x-python",
   "name": "python",
   "nbconvert_exporter": "python",
   "pygments_lexer": "ipython3",
   "version": "3.8.12"
  }
 },
 "nbformat": 4,
 "nbformat_minor": 5
}

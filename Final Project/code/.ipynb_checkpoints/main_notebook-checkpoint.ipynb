{
 "cells": [
  {
   "cell_type": "markdown",
   "id": "fc310d5e-dfed-45c0-9ba2-5f21f0ed63c7",
   "metadata": {},
   "source": [
    "# Main Project Notebook"
   ]
  },
  {
   "cell_type": "code",
   "execution_count": 3,
   "id": "06d1a329-274a-42ee-8982-661b43fa4d60",
   "metadata": {},
   "outputs": [
    {
     "name": "stdout",
     "output_type": "stream",
     "text": [
      "The autoreload extension is already loaded. To reload it, use:\n",
      "  %reload_ext autoreload\n"
     ]
    }
   ],
   "source": [
    "import torch\n",
    "import torch.nn as nn\n",
    "import torch.nn.functional as F\n",
    "import torch.optim as optim\n",
    "import torchvision\n",
    "from torchvision import datasets, transforms\n",
    "import numpy as np\n",
    "from matplotlib import pyplot as plt\n",
    "# Needed for training\n",
    "from torch.optim.lr_scheduler import StepLR\n",
    "from torch.utils.data import random_split, DataLoader\n",
    "from torch.utils.data.dataset import Subset\n",
    "# Models\n",
    "from models_part1 import FinalClassifier , MNISTAutoencoder, CIFAR10Autoencoder\n",
    "from models_part2 import MNISTClassifyingAutoencoder,CIFAR10ClassifyingAutoencoder\n",
    "from models_part3 import NTXentLoss,MnistSimCLR,Cifar10SimCLR\n",
    "from models_testing import  plot_accuracies,plot_losses,test_classifier,test_classifyingAutoEncoder\n",
    "from models_testing import create_model_folders,PretrainedModel,save_pretrained_model\n",
    "%load_ext autoreload\n",
    "%autoreload 2"
   ]
  },
  {
   "cell_type": "code",
   "execution_count": 4,
   "id": "744759fc-5f2f-405d-9ba2-7458266b343f",
   "metadata": {},
   "outputs": [
    {
     "data": {
      "text/plain": [
       "device(type='cuda')"
      ]
     },
     "execution_count": 4,
     "metadata": {},
     "output_type": "execute_result"
    }
   ],
   "source": [
    "device = torch.device(\"cuda\" if torch.cuda.is_available() else \"cpu\")\n",
    "device"
   ]
  },
  {
   "cell_type": "markdown",
   "id": "d34641c0-0a1e-4010-b92d-f1ac8b65ce12",
   "metadata": {},
   "source": [
    "## Making model folders"
   ]
  },
  {
   "cell_type": "code",
   "execution_count": 8,
   "id": "cbaa7f27-7935-47aa-a3a9-7237cf37549c",
   "metadata": {},
   "outputs": [
    {
     "name": "stdout",
     "output_type": "stream",
     "text": [
      "Directory already exists: trained_models\n",
      "Directory already exists: trained_models\\part_1\n",
      "Directory already exists: trained_models\\part_2\n",
      "Directory already exists: trained_models\\part_3\n"
     ]
    }
   ],
   "source": [
    "create_model_folders()"
   ]
  },
  {
   "cell_type": "markdown",
   "id": "b2c15c78-7c0e-4af6-af0e-a2930ec2c4cb",
   "metadata": {},
   "source": [
    "## Testing if model part1 mnist saved well"
   ]
  },
  {
   "cell_type": "markdown",
   "id": "241465b5-df5e-4816-9930-c9e8955100ec",
   "metadata": {},
   "source": [
    "## Load dataloaders"
   ]
  },
  {
   "cell_type": "code",
   "execution_count": 9,
   "id": "4a56abcf-dfb1-4e5d-8f41-ad8c61205a16",
   "metadata": {},
   "outputs": [
    {
     "name": "stdout",
     "output_type": "stream",
     "text": [
      "MNIST dataset downloaded successfully!\n"
     ]
    }
   ],
   "source": [
    "mnist_path = \"./mnist_data\"\n",
    "\n",
    "transform = transforms.Compose([\n",
    "    transforms.ToTensor(),\n",
    "    transforms.Normalize(mean=[0.5], std=[0.5])\n",
    "])\n",
    "\n",
    "train_dataset = torchvision.datasets.MNIST(\n",
    "    root=mnist_path,  \n",
    "    train=True,       \n",
    "    transform=transform,  # Apply transformations here\n",
    "    download=True     \n",
    ")\n",
    "\n",
    "test_dataset = torchvision.datasets.MNIST(\n",
    "    root=mnist_path,\n",
    "    train=False,  \n",
    "    transform=transform,  # Apply same transformations for test data\n",
    "    download=True\n",
    ")\n",
    "\n",
    "print(\"MNIST dataset downloaded successfully!\")"
   ]
  },
  {
   "cell_type": "code",
   "execution_count": 10,
   "id": "bdcb1d74-c43a-4f6b-a76a-edf78dc31320",
   "metadata": {},
   "outputs": [
    {
     "name": "stdout",
     "output_type": "stream",
     "text": [
      "Train size: 50000, Validation size: 10000, Test size: 10000\n",
      "DataLoaders created successfully!\n",
      "Batch shape: torch.Size([64, 1, 28, 28]), Labels: tensor([6, 4, 4, 6, 4])\n"
     ]
    }
   ],
   "source": [
    "train_size = 50_000\n",
    "val_size = 10_000\n",
    "\n",
    "train_dataset, val_dataset = random_split(train_dataset, [train_size, val_size])\n",
    "\n",
    "print(f\"Train size: {len(train_dataset)}, Validation size: {len(val_dataset)}, Test size: {len(test_dataset)}\")\n",
    "\n",
    "\n",
    "batch_size = 64\n",
    "\n",
    "# Create DataLoaders\n",
    "mnist_train_loader = DataLoader(train_dataset, batch_size=batch_size, shuffle=True)\n",
    "mnist_val_loader = DataLoader(val_dataset, batch_size=batch_size, shuffle=False)\n",
    "mnist_test_loader = DataLoader(test_dataset, batch_size=batch_size, shuffle=False)\n",
    "\n",
    "print(\"DataLoaders created successfully!\")\n",
    "\n",
    "images, labels = next(iter(mnist_train_loader))\n",
    "print(f\"Batch shape: {images.shape}, Labels: {labels[:5]}\")"
   ]
  },
  {
   "cell_type": "code",
   "execution_count": 12,
   "id": "960f26f9-6971-47fa-8e74-fd26971a3d51",
   "metadata": {},
   "outputs": [
    {
     "name": "stdout",
     "output_type": "stream",
     "text": [
      "Test Accuracy: 98.55%\n"
     ]
    }
   ],
   "source": [
    "pretrained_model = torch.load(\"trained_models/part_1/mnist.pth\")\n",
    "pretrained_encoder = pretrained_model.encoder\n",
    "classifier = pretrained_model.classifier\n",
    "test_classifier(encoder=pretrained_encoder,\n",
    "                classifier=classifier,\n",
    "                test_loader=mnist_test_loader)"
   ]
  },
  {
   "cell_type": "markdown",
   "id": "48783cce-0765-4857-ad21-51bac1ac8e3e",
   "metadata": {},
   "source": [
    "### All checks out, should check decoder for reconstruction and all that"
   ]
  },
  {
   "cell_type": "code",
   "execution_count": null,
   "id": "8c062e99-569d-49e5-8f8a-df25b9f5c5e1",
   "metadata": {},
   "outputs": [],
   "source": []
  }
 ],
 "metadata": {
  "kernelspec": {
   "display_name": "Python 3 (ipykernel)",
   "language": "python",
   "name": "python3"
  },
  "language_info": {
   "codemirror_mode": {
    "name": "ipython",
    "version": 3
   },
   "file_extension": ".py",
   "mimetype": "text/x-python",
   "name": "python",
   "nbconvert_exporter": "python",
   "pygments_lexer": "ipython3",
   "version": "3.8.12"
  }
 },
 "nbformat": 4,
 "nbformat_minor": 5
}
